{
 "cells": [
  {
   "cell_type": "code",
   "execution_count": null,
   "metadata": {
    "colab": {
     "base_uri": "https://localhost:8080/",
     "height": 74
    },
    "id": "j_N6G3mPyJJ0",
    "outputId": "71ffea5f-f440-4ca1-dadd-8dfb98790d8f"
   },
   "outputs": [
    {
     "data": {
      "text/html": [
       "\n",
       "     <input type=\"file\" id=\"files-70d1a652-1b62-4c7a-b57e-2c29f64eaa18\" name=\"files[]\" multiple disabled\n",
       "        style=\"border:none\" />\n",
       "     <output id=\"result-70d1a652-1b62-4c7a-b57e-2c29f64eaa18\">\n",
       "      Upload widget is only available when the cell has been executed in the\n",
       "      current browser session. Please rerun this cell to enable.\n",
       "      </output>\n",
       "      <script>// Copyright 2017 Google LLC\n",
       "//\n",
       "// Licensed under the Apache License, Version 2.0 (the \"License\");\n",
       "// you may not use this file except in compliance with the License.\n",
       "// You may obtain a copy of the License at\n",
       "//\n",
       "//      http://www.apache.org/licenses/LICENSE-2.0\n",
       "//\n",
       "// Unless required by applicable law or agreed to in writing, software\n",
       "// distributed under the License is distributed on an \"AS IS\" BASIS,\n",
       "// WITHOUT WARRANTIES OR CONDITIONS OF ANY KIND, either express or implied.\n",
       "// See the License for the specific language governing permissions and\n",
       "// limitations under the License.\n",
       "\n",
       "/**\n",
       " * @fileoverview Helpers for google.colab Python module.\n",
       " */\n",
       "(function(scope) {\n",
       "function span(text, styleAttributes = {}) {\n",
       "  const element = document.createElement('span');\n",
       "  element.textContent = text;\n",
       "  for (const key of Object.keys(styleAttributes)) {\n",
       "    element.style[key] = styleAttributes[key];\n",
       "  }\n",
       "  return element;\n",
       "}\n",
       "\n",
       "// Max number of bytes which will be uploaded at a time.\n",
       "const MAX_PAYLOAD_SIZE = 100 * 1024;\n",
       "\n",
       "function _uploadFiles(inputId, outputId) {\n",
       "  const steps = uploadFilesStep(inputId, outputId);\n",
       "  const outputElement = document.getElementById(outputId);\n",
       "  // Cache steps on the outputElement to make it available for the next call\n",
       "  // to uploadFilesContinue from Python.\n",
       "  outputElement.steps = steps;\n",
       "\n",
       "  return _uploadFilesContinue(outputId);\n",
       "}\n",
       "\n",
       "// This is roughly an async generator (not supported in the browser yet),\n",
       "// where there are multiple asynchronous steps and the Python side is going\n",
       "// to poll for completion of each step.\n",
       "// This uses a Promise to block the python side on completion of each step,\n",
       "// then passes the result of the previous step as the input to the next step.\n",
       "function _uploadFilesContinue(outputId) {\n",
       "  const outputElement = document.getElementById(outputId);\n",
       "  const steps = outputElement.steps;\n",
       "\n",
       "  const next = steps.next(outputElement.lastPromiseValue);\n",
       "  return Promise.resolve(next.value.promise).then((value) => {\n",
       "    // Cache the last promise value to make it available to the next\n",
       "    // step of the generator.\n",
       "    outputElement.lastPromiseValue = value;\n",
       "    return next.value.response;\n",
       "  });\n",
       "}\n",
       "\n",
       "/**\n",
       " * Generator function which is called between each async step of the upload\n",
       " * process.\n",
       " * @param {string} inputId Element ID of the input file picker element.\n",
       " * @param {string} outputId Element ID of the output display.\n",
       " * @return {!Iterable<!Object>} Iterable of next steps.\n",
       " */\n",
       "function* uploadFilesStep(inputId, outputId) {\n",
       "  const inputElement = document.getElementById(inputId);\n",
       "  inputElement.disabled = false;\n",
       "\n",
       "  const outputElement = document.getElementById(outputId);\n",
       "  outputElement.innerHTML = '';\n",
       "\n",
       "  const pickedPromise = new Promise((resolve) => {\n",
       "    inputElement.addEventListener('change', (e) => {\n",
       "      resolve(e.target.files);\n",
       "    });\n",
       "  });\n",
       "\n",
       "  const cancel = document.createElement('button');\n",
       "  inputElement.parentElement.appendChild(cancel);\n",
       "  cancel.textContent = 'Cancel upload';\n",
       "  const cancelPromise = new Promise((resolve) => {\n",
       "    cancel.onclick = () => {\n",
       "      resolve(null);\n",
       "    };\n",
       "  });\n",
       "\n",
       "  // Wait for the user to pick the files.\n",
       "  const files = yield {\n",
       "    promise: Promise.race([pickedPromise, cancelPromise]),\n",
       "    response: {\n",
       "      action: 'starting',\n",
       "    }\n",
       "  };\n",
       "\n",
       "  cancel.remove();\n",
       "\n",
       "  // Disable the input element since further picks are not allowed.\n",
       "  inputElement.disabled = true;\n",
       "\n",
       "  if (!files) {\n",
       "    return {\n",
       "      response: {\n",
       "        action: 'complete',\n",
       "      }\n",
       "    };\n",
       "  }\n",
       "\n",
       "  for (const file of files) {\n",
       "    const li = document.createElement('li');\n",
       "    li.append(span(file.name, {fontWeight: 'bold'}));\n",
       "    li.append(span(\n",
       "        `(${file.type || 'n/a'}) - ${file.size} bytes, ` +\n",
       "        `last modified: ${\n",
       "            file.lastModifiedDate ? file.lastModifiedDate.toLocaleDateString() :\n",
       "                                    'n/a'} - `));\n",
       "    const percent = span('0% done');\n",
       "    li.appendChild(percent);\n",
       "\n",
       "    outputElement.appendChild(li);\n",
       "\n",
       "    const fileDataPromise = new Promise((resolve) => {\n",
       "      const reader = new FileReader();\n",
       "      reader.onload = (e) => {\n",
       "        resolve(e.target.result);\n",
       "      };\n",
       "      reader.readAsArrayBuffer(file);\n",
       "    });\n",
       "    // Wait for the data to be ready.\n",
       "    let fileData = yield {\n",
       "      promise: fileDataPromise,\n",
       "      response: {\n",
       "        action: 'continue',\n",
       "      }\n",
       "    };\n",
       "\n",
       "    // Use a chunked sending to avoid message size limits. See b/62115660.\n",
       "    let position = 0;\n",
       "    do {\n",
       "      const length = Math.min(fileData.byteLength - position, MAX_PAYLOAD_SIZE);\n",
       "      const chunk = new Uint8Array(fileData, position, length);\n",
       "      position += length;\n",
       "\n",
       "      const base64 = btoa(String.fromCharCode.apply(null, chunk));\n",
       "      yield {\n",
       "        response: {\n",
       "          action: 'append',\n",
       "          file: file.name,\n",
       "          data: base64,\n",
       "        },\n",
       "      };\n",
       "\n",
       "      let percentDone = fileData.byteLength === 0 ?\n",
       "          100 :\n",
       "          Math.round((position / fileData.byteLength) * 100);\n",
       "      percent.textContent = `${percentDone}% done`;\n",
       "\n",
       "    } while (position < fileData.byteLength);\n",
       "  }\n",
       "\n",
       "  // All done.\n",
       "  yield {\n",
       "    response: {\n",
       "      action: 'complete',\n",
       "    }\n",
       "  };\n",
       "}\n",
       "\n",
       "scope.google = scope.google || {};\n",
       "scope.google.colab = scope.google.colab || {};\n",
       "scope.google.colab._files = {\n",
       "  _uploadFiles,\n",
       "  _uploadFilesContinue,\n",
       "};\n",
       "})(self);\n",
       "</script> "
      ],
      "text/plain": [
       "<IPython.core.display.HTML object>"
      ]
     },
     "metadata": {},
     "output_type": "display_data"
    },
    {
     "name": "stdout",
     "output_type": "stream",
     "text": [
      "Saving student_performances.csv to student_performances (1).csv\n"
     ]
    }
   ],
   "source": [
    "from google.colab import files\n",
    "uploaded = files.upload()"
   ]
  },
  {
   "cell_type": "markdown",
   "metadata": {
    "id": "g66rOHKixzag"
   },
   "source": [
    "# In this tutorial you are given a task of classifying students grades bases on various properties of the students and their families. The students can have 5 kinds of grades - Excellent, Very good, Good, Satisfactory, and poor.\n",
    "\n",
    "# You need to develop different classifiers and determine which one of them give best performaces on various metrices."
   ]
  },
  {
   "cell_type": "markdown",
   "metadata": {
    "id": "D2SM6ddGkZwX"
   },
   "source": [
    "# Import Libraries.\n",
    "## I have imported few new libraries for this week  but you need to import rest of them."
   ]
  },
  {
   "cell_type": "code",
   "execution_count": 4,
   "metadata": {
    "id": "peH_SZYlyREe"
   },
   "outputs": [],
   "source": [
    "from sklearn.svm import SVC\n",
    "from sklearn.preprocessing import OneHotEncoder, LabelEncoder\n",
    "from sklearn.metrics import accuracy_score, precision_score, recall_score, f1_score\n",
    "\n",
    "\n",
    "# Your code to import all the relevant libraries.\n",
    "\n",
    "import numpy as np\n",
    "import pandas as pd\n",
    "import matplotlib.pyplot as plt\n",
    "\n",
    "from sklearn.model_selection import train_test_split\n",
    "from sklearn.preprocessing import StandardScaler"
   ]
  },
  {
   "cell_type": "markdown",
   "metadata": {
    "id": "q-AGhJValIqy"
   },
   "source": [
    "# Read and display dataset."
   ]
  },
  {
   "cell_type": "code",
   "execution_count": 5,
   "metadata": {
    "id": "B9sAKK2zypsz"
   },
   "outputs": [
    {
     "data": {
      "text/html": [
       "<div>\n",
       "<style scoped>\n",
       "    .dataframe tbody tr th:only-of-type {\n",
       "        vertical-align: middle;\n",
       "    }\n",
       "\n",
       "    .dataframe tbody tr th {\n",
       "        vertical-align: top;\n",
       "    }\n",
       "\n",
       "    .dataframe thead th {\n",
       "        text-align: right;\n",
       "    }\n",
       "</style>\n",
       "<table border=\"1\" class=\"dataframe\">\n",
       "  <thead>\n",
       "    <tr style=\"text-align: right;\">\n",
       "      <th></th>\n",
       "      <th>sex</th>\n",
       "      <th>age</th>\n",
       "      <th>address</th>\n",
       "      <th>famsize</th>\n",
       "      <th>Pstatus</th>\n",
       "      <th>Medu</th>\n",
       "      <th>Fedu</th>\n",
       "      <th>Mjob</th>\n",
       "      <th>Fjob</th>\n",
       "      <th>reason</th>\n",
       "      <th>...</th>\n",
       "      <th>internet</th>\n",
       "      <th>romantic</th>\n",
       "      <th>famrel</th>\n",
       "      <th>freetime</th>\n",
       "      <th>goout</th>\n",
       "      <th>Dalc</th>\n",
       "      <th>Walc</th>\n",
       "      <th>health</th>\n",
       "      <th>absences</th>\n",
       "      <th>grades</th>\n",
       "    </tr>\n",
       "  </thead>\n",
       "  <tbody>\n",
       "    <tr>\n",
       "      <th>0</th>\n",
       "      <td>F</td>\n",
       "      <td>18</td>\n",
       "      <td>U</td>\n",
       "      <td>GT3</td>\n",
       "      <td>A</td>\n",
       "      <td>4</td>\n",
       "      <td>4</td>\n",
       "      <td>at_home</td>\n",
       "      <td>teacher</td>\n",
       "      <td>course</td>\n",
       "      <td>...</td>\n",
       "      <td>no</td>\n",
       "      <td>no</td>\n",
       "      <td>4</td>\n",
       "      <td>3</td>\n",
       "      <td>4</td>\n",
       "      <td>1</td>\n",
       "      <td>1</td>\n",
       "      <td>3</td>\n",
       "      <td>6</td>\n",
       "      <td>poor</td>\n",
       "    </tr>\n",
       "    <tr>\n",
       "      <th>1</th>\n",
       "      <td>F</td>\n",
       "      <td>17</td>\n",
       "      <td>U</td>\n",
       "      <td>GT3</td>\n",
       "      <td>T</td>\n",
       "      <td>1</td>\n",
       "      <td>1</td>\n",
       "      <td>at_home</td>\n",
       "      <td>other</td>\n",
       "      <td>course</td>\n",
       "      <td>...</td>\n",
       "      <td>yes</td>\n",
       "      <td>no</td>\n",
       "      <td>5</td>\n",
       "      <td>3</td>\n",
       "      <td>3</td>\n",
       "      <td>1</td>\n",
       "      <td>1</td>\n",
       "      <td>3</td>\n",
       "      <td>4</td>\n",
       "      <td>poor</td>\n",
       "    </tr>\n",
       "    <tr>\n",
       "      <th>2</th>\n",
       "      <td>F</td>\n",
       "      <td>15</td>\n",
       "      <td>U</td>\n",
       "      <td>LE3</td>\n",
       "      <td>T</td>\n",
       "      <td>1</td>\n",
       "      <td>1</td>\n",
       "      <td>at_home</td>\n",
       "      <td>other</td>\n",
       "      <td>other</td>\n",
       "      <td>...</td>\n",
       "      <td>yes</td>\n",
       "      <td>no</td>\n",
       "      <td>4</td>\n",
       "      <td>3</td>\n",
       "      <td>2</td>\n",
       "      <td>2</td>\n",
       "      <td>3</td>\n",
       "      <td>3</td>\n",
       "      <td>10</td>\n",
       "      <td>satisfactory</td>\n",
       "    </tr>\n",
       "    <tr>\n",
       "      <th>3</th>\n",
       "      <td>F</td>\n",
       "      <td>15</td>\n",
       "      <td>U</td>\n",
       "      <td>GT3</td>\n",
       "      <td>T</td>\n",
       "      <td>4</td>\n",
       "      <td>2</td>\n",
       "      <td>health</td>\n",
       "      <td>services</td>\n",
       "      <td>home</td>\n",
       "      <td>...</td>\n",
       "      <td>yes</td>\n",
       "      <td>yes</td>\n",
       "      <td>3</td>\n",
       "      <td>2</td>\n",
       "      <td>2</td>\n",
       "      <td>1</td>\n",
       "      <td>1</td>\n",
       "      <td>5</td>\n",
       "      <td>2</td>\n",
       "      <td>very good</td>\n",
       "    </tr>\n",
       "    <tr>\n",
       "      <th>4</th>\n",
       "      <td>F</td>\n",
       "      <td>16</td>\n",
       "      <td>U</td>\n",
       "      <td>GT3</td>\n",
       "      <td>T</td>\n",
       "      <td>3</td>\n",
       "      <td>3</td>\n",
       "      <td>other</td>\n",
       "      <td>other</td>\n",
       "      <td>home</td>\n",
       "      <td>...</td>\n",
       "      <td>no</td>\n",
       "      <td>no</td>\n",
       "      <td>4</td>\n",
       "      <td>3</td>\n",
       "      <td>2</td>\n",
       "      <td>1</td>\n",
       "      <td>2</td>\n",
       "      <td>5</td>\n",
       "      <td>4</td>\n",
       "      <td>satisfactory</td>\n",
       "    </tr>\n",
       "  </tbody>\n",
       "</table>\n",
       "<p>5 rows × 30 columns</p>\n",
       "</div>"
      ],
      "text/plain": [
       "  sex  age address famsize Pstatus  Medu  Fedu     Mjob      Fjob  reason  \\\n",
       "0   F   18       U     GT3       A     4     4  at_home   teacher  course   \n",
       "1   F   17       U     GT3       T     1     1  at_home     other  course   \n",
       "2   F   15       U     LE3       T     1     1  at_home     other   other   \n",
       "3   F   15       U     GT3       T     4     2   health  services    home   \n",
       "4   F   16       U     GT3       T     3     3    other     other    home   \n",
       "\n",
       "   ... internet  romantic  famrel  freetime goout Dalc Walc health absences  \\\n",
       "0  ...       no        no       4         3     4    1    1      3        6   \n",
       "1  ...      yes        no       5         3     3    1    1      3        4   \n",
       "2  ...      yes        no       4         3     2    2    3      3       10   \n",
       "3  ...      yes       yes       3         2     2    1    1      5        2   \n",
       "4  ...       no        no       4         3     2    1    2      5        4   \n",
       "\n",
       "         grades  \n",
       "0          poor  \n",
       "1          poor  \n",
       "2  satisfactory  \n",
       "3     very good  \n",
       "4  satisfactory  \n",
       "\n",
       "[5 rows x 30 columns]"
      ]
     },
     "execution_count": 5,
     "metadata": {},
     "output_type": "execute_result"
    }
   ],
   "source": [
    "# Your code to read data\n",
    "dataset = pd.read_csv('student_performances.csv')  \n",
    "\n",
    "# Your code to print first few samples of the dataset.\n",
    "dataset.head()"
   ]
  },
  {
   "cell_type": "markdown",
   "metadata": {
    "id": "oRhIEjb_lcLq"
   },
   "source": [
    "# Print the information about the dataset.\n",
    "\n",
    "## You need to convert all the object datatypes (except output variable - grades) to the numbers using either labelencoding or one hot encoding."
   ]
  },
  {
   "cell_type": "code",
   "execution_count": 6,
   "metadata": {
    "id": "4u0vKeNPzEhQ"
   },
   "outputs": [
    {
     "name": "stdout",
     "output_type": "stream",
     "text": [
      "<class 'pandas.core.frame.DataFrame'>\n",
      "RangeIndex: 395 entries, 0 to 394\n",
      "Data columns (total 30 columns):\n",
      " #   Column      Non-Null Count  Dtype \n",
      "---  ------      --------------  ----- \n",
      " 0   sex         395 non-null    object\n",
      " 1   age         395 non-null    int64 \n",
      " 2   address     395 non-null    object\n",
      " 3   famsize     395 non-null    object\n",
      " 4   Pstatus     395 non-null    object\n",
      " 5   Medu        395 non-null    int64 \n",
      " 6   Fedu        395 non-null    int64 \n",
      " 7   Mjob        395 non-null    object\n",
      " 8   Fjob        395 non-null    object\n",
      " 9   reason      395 non-null    object\n",
      " 10  guardian    395 non-null    object\n",
      " 11  traveltime  395 non-null    int64 \n",
      " 12  studytime   395 non-null    int64 \n",
      " 13  failures    395 non-null    int64 \n",
      " 14  schoolsup   395 non-null    object\n",
      " 15  famsup      395 non-null    object\n",
      " 16  paid        395 non-null    object\n",
      " 17  activities  395 non-null    object\n",
      " 18  nursery     395 non-null    object\n",
      " 19  higher      395 non-null    object\n",
      " 20  internet    395 non-null    object\n",
      " 21  romantic    395 non-null    object\n",
      " 22  famrel      395 non-null    int64 \n",
      " 23  freetime    395 non-null    int64 \n",
      " 24  goout       395 non-null    int64 \n",
      " 25  Dalc        395 non-null    int64 \n",
      " 26  Walc        395 non-null    int64 \n",
      " 27  health      395 non-null    int64 \n",
      " 28  absences    395 non-null    int64 \n",
      " 29  grades      395 non-null    object\n",
      "dtypes: int64(13), object(17)\n",
      "memory usage: 92.7+ KB\n"
     ]
    }
   ],
   "source": [
    "# Your code to print the key information about the datset. Use - .info method.\n",
    "\n",
    "dataset.info()"
   ]
  },
  {
   "cell_type": "markdown",
   "metadata": {
    "id": "h8mxZYsfmvhq"
   },
   "source": [
    "# Converting the columns  ['Fjob', 'Mjob', 'reason', 'guardian'] into one hot vectors.\n",
    "\n",
    "![image.png](data:image/png;base64,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)"
   ]
  },
  {
   "cell_type": "code",
   "execution_count": 7,
   "metadata": {
    "id": "F7-cytP-23nR"
   },
   "outputs": [],
   "source": [
    "data = pd.get_dummies(dataset, columns = ['Fjob', 'Mjob', 'reason', 'guardian'])\n"
   ]
  },
  {
   "cell_type": "markdown",
   "metadata": {
    "id": "LJOtUrf4nTbO"
   },
   "source": [
    "# Note that you can also use sklearn.preprocessing.OneHotEncoder instead of pd.get_dummies.\n",
    "\n",
    "# Next, print the first few rows of the data (dataset have been stored in data in previous cell)."
   ]
  },
  {
   "cell_type": "code",
   "execution_count": 8,
   "metadata": {
    "id": "jGiX16Zd5UXt"
   },
   "outputs": [
    {
     "data": {
      "text/html": [
       "<div>\n",
       "<style scoped>\n",
       "    .dataframe tbody tr th:only-of-type {\n",
       "        vertical-align: middle;\n",
       "    }\n",
       "\n",
       "    .dataframe tbody tr th {\n",
       "        vertical-align: top;\n",
       "    }\n",
       "\n",
       "    .dataframe thead th {\n",
       "        text-align: right;\n",
       "    }\n",
       "</style>\n",
       "<table border=\"1\" class=\"dataframe\">\n",
       "  <thead>\n",
       "    <tr style=\"text-align: right;\">\n",
       "      <th></th>\n",
       "      <th>sex</th>\n",
       "      <th>age</th>\n",
       "      <th>address</th>\n",
       "      <th>famsize</th>\n",
       "      <th>Pstatus</th>\n",
       "      <th>Medu</th>\n",
       "      <th>Fedu</th>\n",
       "      <th>traveltime</th>\n",
       "      <th>studytime</th>\n",
       "      <th>failures</th>\n",
       "      <th>...</th>\n",
       "      <th>Mjob_other</th>\n",
       "      <th>Mjob_services</th>\n",
       "      <th>Mjob_teacher</th>\n",
       "      <th>reason_course</th>\n",
       "      <th>reason_home</th>\n",
       "      <th>reason_other</th>\n",
       "      <th>reason_reputation</th>\n",
       "      <th>guardian_father</th>\n",
       "      <th>guardian_mother</th>\n",
       "      <th>guardian_other</th>\n",
       "    </tr>\n",
       "  </thead>\n",
       "  <tbody>\n",
       "    <tr>\n",
       "      <th>0</th>\n",
       "      <td>F</td>\n",
       "      <td>18</td>\n",
       "      <td>U</td>\n",
       "      <td>GT3</td>\n",
       "      <td>A</td>\n",
       "      <td>4</td>\n",
       "      <td>4</td>\n",
       "      <td>2</td>\n",
       "      <td>2</td>\n",
       "      <td>0</td>\n",
       "      <td>...</td>\n",
       "      <td>False</td>\n",
       "      <td>False</td>\n",
       "      <td>False</td>\n",
       "      <td>True</td>\n",
       "      <td>False</td>\n",
       "      <td>False</td>\n",
       "      <td>False</td>\n",
       "      <td>False</td>\n",
       "      <td>True</td>\n",
       "      <td>False</td>\n",
       "    </tr>\n",
       "    <tr>\n",
       "      <th>1</th>\n",
       "      <td>F</td>\n",
       "      <td>17</td>\n",
       "      <td>U</td>\n",
       "      <td>GT3</td>\n",
       "      <td>T</td>\n",
       "      <td>1</td>\n",
       "      <td>1</td>\n",
       "      <td>1</td>\n",
       "      <td>2</td>\n",
       "      <td>0</td>\n",
       "      <td>...</td>\n",
       "      <td>False</td>\n",
       "      <td>False</td>\n",
       "      <td>False</td>\n",
       "      <td>True</td>\n",
       "      <td>False</td>\n",
       "      <td>False</td>\n",
       "      <td>False</td>\n",
       "      <td>True</td>\n",
       "      <td>False</td>\n",
       "      <td>False</td>\n",
       "    </tr>\n",
       "    <tr>\n",
       "      <th>2</th>\n",
       "      <td>F</td>\n",
       "      <td>15</td>\n",
       "      <td>U</td>\n",
       "      <td>LE3</td>\n",
       "      <td>T</td>\n",
       "      <td>1</td>\n",
       "      <td>1</td>\n",
       "      <td>1</td>\n",
       "      <td>2</td>\n",
       "      <td>3</td>\n",
       "      <td>...</td>\n",
       "      <td>False</td>\n",
       "      <td>False</td>\n",
       "      <td>False</td>\n",
       "      <td>False</td>\n",
       "      <td>False</td>\n",
       "      <td>True</td>\n",
       "      <td>False</td>\n",
       "      <td>False</td>\n",
       "      <td>True</td>\n",
       "      <td>False</td>\n",
       "    </tr>\n",
       "    <tr>\n",
       "      <th>3</th>\n",
       "      <td>F</td>\n",
       "      <td>15</td>\n",
       "      <td>U</td>\n",
       "      <td>GT3</td>\n",
       "      <td>T</td>\n",
       "      <td>4</td>\n",
       "      <td>2</td>\n",
       "      <td>1</td>\n",
       "      <td>3</td>\n",
       "      <td>0</td>\n",
       "      <td>...</td>\n",
       "      <td>False</td>\n",
       "      <td>False</td>\n",
       "      <td>False</td>\n",
       "      <td>False</td>\n",
       "      <td>True</td>\n",
       "      <td>False</td>\n",
       "      <td>False</td>\n",
       "      <td>False</td>\n",
       "      <td>True</td>\n",
       "      <td>False</td>\n",
       "    </tr>\n",
       "    <tr>\n",
       "      <th>4</th>\n",
       "      <td>F</td>\n",
       "      <td>16</td>\n",
       "      <td>U</td>\n",
       "      <td>GT3</td>\n",
       "      <td>T</td>\n",
       "      <td>3</td>\n",
       "      <td>3</td>\n",
       "      <td>1</td>\n",
       "      <td>2</td>\n",
       "      <td>0</td>\n",
       "      <td>...</td>\n",
       "      <td>True</td>\n",
       "      <td>False</td>\n",
       "      <td>False</td>\n",
       "      <td>False</td>\n",
       "      <td>True</td>\n",
       "      <td>False</td>\n",
       "      <td>False</td>\n",
       "      <td>True</td>\n",
       "      <td>False</td>\n",
       "      <td>False</td>\n",
       "    </tr>\n",
       "  </tbody>\n",
       "</table>\n",
       "<p>5 rows × 43 columns</p>\n",
       "</div>"
      ],
      "text/plain": [
       "  sex  age address famsize Pstatus  Medu  Fedu  traveltime  studytime  \\\n",
       "0   F   18       U     GT3       A     4     4           2          2   \n",
       "1   F   17       U     GT3       T     1     1           1          2   \n",
       "2   F   15       U     LE3       T     1     1           1          2   \n",
       "3   F   15       U     GT3       T     4     2           1          3   \n",
       "4   F   16       U     GT3       T     3     3           1          2   \n",
       "\n",
       "   failures  ... Mjob_other Mjob_services Mjob_teacher reason_course  \\\n",
       "0         0  ...      False         False        False          True   \n",
       "1         0  ...      False         False        False          True   \n",
       "2         3  ...      False         False        False         False   \n",
       "3         0  ...      False         False        False         False   \n",
       "4         0  ...       True         False        False         False   \n",
       "\n",
       "  reason_home reason_other reason_reputation guardian_father  guardian_mother  \\\n",
       "0       False        False             False           False             True   \n",
       "1       False        False             False            True            False   \n",
       "2       False         True             False           False             True   \n",
       "3        True        False             False           False             True   \n",
       "4        True        False             False            True            False   \n",
       "\n",
       "   guardian_other  \n",
       "0           False  \n",
       "1           False  \n",
       "2           False  \n",
       "3           False  \n",
       "4           False  \n",
       "\n",
       "[5 rows x 43 columns]"
      ]
     },
     "execution_count": 8,
     "metadata": {},
     "output_type": "execute_result"
    }
   ],
   "source": [
    "# Your code to print first few rows of the data.\n",
    "\n",
    "data.head()"
   ]
  },
  {
   "cell_type": "markdown",
   "metadata": {
    "id": "TyJTU0G8oB26"
   },
   "source": [
    "# Converting other text values in the dataframe to numbers using label encoding."
   ]
  },
  {
   "cell_type": "code",
   "execution_count": 9,
   "metadata": {
    "id": "WkFzXZWS-7pA"
   },
   "outputs": [],
   "source": [
    "labelencoder = LabelEncoder()\n",
    "\n",
    "labelencoder.fit(data['sex'])\n",
    "data ['sex'] = labelencoder.transform(data['sex'])\n",
    "\n",
    "#\n",
    "## Your code to convert transform address to the numbers\n",
    "#\n",
    "\n",
    "\n",
    "#\n",
    "## Your code to convert transform famsize to the numbers\n",
    "#\n",
    "\n",
    "\n",
    "#\n",
    "## Your code to convert transform Pstatus to the numbers\n",
    "#\n",
    "\n",
    "\n",
    "#\n",
    "## Your code to convert transform schoolsup to the numbers\n",
    "#\n",
    "\n",
    "\n",
    "#\n",
    "## Your code to convert transform famsup to the numbers\n",
    "#\n",
    "\n",
    "#\n",
    "## Your code to convert transform paid to the numbers\n",
    "#\n",
    "\n",
    "\n",
    "#\n",
    "## Your code to convert transform activities to the numbers\n",
    "#\n",
    "\n",
    "\n",
    "#\n",
    "## Your code to convert transform nursery to the numbers\n",
    "#\n",
    "\n",
    "\n",
    "#\n",
    "## Your code to convert transform higher to the numbers\n",
    "#\n",
    "\n",
    "\n",
    "#\n",
    "## Your code to convert transform internet to the numbers\n",
    "#\n",
    "\n",
    "#\n",
    "## Your code to convert transform romantic to the numbers\n",
    "#\n"
   ]
  },
  {
   "cell_type": "code",
   "execution_count": 10,
   "metadata": {},
   "outputs": [
    {
     "data": {
      "text/plain": [
       "sex\n",
       "0    208\n",
       "1    187\n",
       "Name: count, dtype: int64"
      ]
     },
     "execution_count": 10,
     "metadata": {},
     "output_type": "execute_result"
    }
   ],
   "source": [
    "data['sex'].value_counts()"
   ]
  },
  {
   "cell_type": "code",
   "execution_count": 11,
   "metadata": {},
   "outputs": [],
   "source": [
    "# Your code to convert transform address to the numbers\n",
    "\n",
    "labelencoder.fit(data['address'])\n",
    "data['address'] = labelencoder.transform(data['address'])"
   ]
  },
  {
   "cell_type": "code",
   "execution_count": 12,
   "metadata": {},
   "outputs": [
    {
     "data": {
      "text/plain": [
       "address\n",
       "1    307\n",
       "0     88\n",
       "Name: count, dtype: int64"
      ]
     },
     "execution_count": 12,
     "metadata": {},
     "output_type": "execute_result"
    }
   ],
   "source": [
    "data['address'].value_counts()"
   ]
  },
  {
   "cell_type": "code",
   "execution_count": 13,
   "metadata": {},
   "outputs": [],
   "source": [
    "## Your code to convert transform famsize to the numbers\n",
    "\n",
    "labelencoder.fit(data['famsize'])\n",
    "data['famsize'] = labelencoder.transform(data['famsize'])"
   ]
  },
  {
   "cell_type": "code",
   "execution_count": 14,
   "metadata": {},
   "outputs": [
    {
     "data": {
      "text/plain": [
       "famsize\n",
       "0    281\n",
       "1    114\n",
       "Name: count, dtype: int64"
      ]
     },
     "execution_count": 14,
     "metadata": {},
     "output_type": "execute_result"
    }
   ],
   "source": [
    "data['famsize'].value_counts()"
   ]
  },
  {
   "cell_type": "code",
   "execution_count": 15,
   "metadata": {},
   "outputs": [],
   "source": [
    "## Your code to convert transform Pstatus to the numbers\n",
    "\n",
    "labelencoder.fit(data['Pstatus'])\n",
    "data['Pstatus'] = labelencoder.transform(data['Pstatus'])"
   ]
  },
  {
   "cell_type": "code",
   "execution_count": 16,
   "metadata": {},
   "outputs": [
    {
     "data": {
      "text/plain": [
       "Pstatus\n",
       "1    354\n",
       "0     41\n",
       "Name: count, dtype: int64"
      ]
     },
     "execution_count": 16,
     "metadata": {},
     "output_type": "execute_result"
    }
   ],
   "source": [
    "data['Pstatus'].value_counts()"
   ]
  },
  {
   "cell_type": "code",
   "execution_count": 17,
   "metadata": {},
   "outputs": [],
   "source": [
    "## Your code to convert transform schoolsup to the numbers\n",
    "\n",
    "labelencoder.fit(data['schoolsup'])\n",
    "data['schoolsup'] = labelencoder.transform(data['schoolsup'])"
   ]
  },
  {
   "cell_type": "code",
   "execution_count": 18,
   "metadata": {},
   "outputs": [
    {
     "data": {
      "text/plain": [
       "schoolsup\n",
       "0    344\n",
       "1     51\n",
       "Name: count, dtype: int64"
      ]
     },
     "execution_count": 18,
     "metadata": {},
     "output_type": "execute_result"
    }
   ],
   "source": [
    "data['schoolsup'].value_counts()"
   ]
  },
  {
   "cell_type": "code",
   "execution_count": 19,
   "metadata": {},
   "outputs": [],
   "source": [
    "## Your code to convert transform famsup to the numbers\n",
    "\n",
    "labelencoder.fit(data['famsup'])\n",
    "data['famsup'] = labelencoder.transform(data['famsup'])"
   ]
  },
  {
   "cell_type": "code",
   "execution_count": 20,
   "metadata": {},
   "outputs": [
    {
     "data": {
      "text/plain": [
       "famsup\n",
       "1    242\n",
       "0    153\n",
       "Name: count, dtype: int64"
      ]
     },
     "execution_count": 20,
     "metadata": {},
     "output_type": "execute_result"
    }
   ],
   "source": [
    "data['famsup'].value_counts()"
   ]
  },
  {
   "cell_type": "code",
   "execution_count": 21,
   "metadata": {},
   "outputs": [],
   "source": [
    "## Your code to convert transform paid to the numbers\n",
    "\n",
    "labelencoder.fit(data['paid'])\n",
    "data['paid'] = labelencoder.transform(data['paid'])"
   ]
  },
  {
   "cell_type": "code",
   "execution_count": 22,
   "metadata": {},
   "outputs": [
    {
     "data": {
      "text/plain": [
       "paid\n",
       "0    214\n",
       "1    181\n",
       "Name: count, dtype: int64"
      ]
     },
     "execution_count": 22,
     "metadata": {},
     "output_type": "execute_result"
    }
   ],
   "source": [
    "data['paid'].value_counts()"
   ]
  },
  {
   "cell_type": "code",
   "execution_count": 23,
   "metadata": {},
   "outputs": [],
   "source": [
    "## Your code to convert transform activities to the numbers\n",
    "\n",
    "labelencoder.fit(data['activities'])\n",
    "data['activities'] = labelencoder.transform(data['activities'])"
   ]
  },
  {
   "cell_type": "code",
   "execution_count": 24,
   "metadata": {},
   "outputs": [
    {
     "data": {
      "text/plain": [
       "activities\n",
       "1    201\n",
       "0    194\n",
       "Name: count, dtype: int64"
      ]
     },
     "execution_count": 24,
     "metadata": {},
     "output_type": "execute_result"
    }
   ],
   "source": [
    "data['activities'].value_counts()"
   ]
  },
  {
   "cell_type": "code",
   "execution_count": 25,
   "metadata": {},
   "outputs": [],
   "source": [
    "## Your code to convert transform nursery to the numbers\n",
    "\n",
    "labelencoder.fit(data['nursery'])\n",
    "data['nursery'] = labelencoder.transform(data['nursery'])"
   ]
  },
  {
   "cell_type": "code",
   "execution_count": 26,
   "metadata": {},
   "outputs": [
    {
     "data": {
      "text/plain": [
       "nursery\n",
       "1    314\n",
       "0     81\n",
       "Name: count, dtype: int64"
      ]
     },
     "execution_count": 26,
     "metadata": {},
     "output_type": "execute_result"
    }
   ],
   "source": [
    "data['nursery'].value_counts()"
   ]
  },
  {
   "cell_type": "code",
   "execution_count": 27,
   "metadata": {},
   "outputs": [],
   "source": [
    "## Your code to convert transform higher to the numbers\n",
    "\n",
    "labelencoder.fit(data['higher'])\n",
    "data['higher'] = labelencoder.transform(data['higher'])"
   ]
  },
  {
   "cell_type": "code",
   "execution_count": 28,
   "metadata": {},
   "outputs": [
    {
     "data": {
      "text/plain": [
       "higher\n",
       "1    375\n",
       "0     20\n",
       "Name: count, dtype: int64"
      ]
     },
     "execution_count": 28,
     "metadata": {},
     "output_type": "execute_result"
    }
   ],
   "source": [
    "data['higher'].value_counts()"
   ]
  },
  {
   "cell_type": "code",
   "execution_count": 29,
   "metadata": {},
   "outputs": [],
   "source": [
    "## Your code to convert transform internet to the numbers\n",
    "\n",
    "labelencoder.fit(data['internet'])\n",
    "data['internet'] = labelencoder.transform(data['internet'])"
   ]
  },
  {
   "cell_type": "code",
   "execution_count": 30,
   "metadata": {},
   "outputs": [
    {
     "data": {
      "text/plain": [
       "internet\n",
       "1    329\n",
       "0     66\n",
       "Name: count, dtype: int64"
      ]
     },
     "execution_count": 30,
     "metadata": {},
     "output_type": "execute_result"
    }
   ],
   "source": [
    "data['internet'].value_counts()"
   ]
  },
  {
   "cell_type": "code",
   "execution_count": 31,
   "metadata": {},
   "outputs": [],
   "source": [
    "## Your code to convert transform romantic to the numbers\n",
    "\n",
    "labelencoder.fit(data['romantic'])\n",
    "data['romantic'] = labelencoder.transform(data['romantic'])"
   ]
  },
  {
   "cell_type": "code",
   "execution_count": 32,
   "metadata": {},
   "outputs": [
    {
     "data": {
      "text/plain": [
       "romantic\n",
       "0    263\n",
       "1    132\n",
       "Name: count, dtype: int64"
      ]
     },
     "execution_count": 32,
     "metadata": {},
     "output_type": "execute_result"
    }
   ],
   "source": [
    "data['romantic'].value_counts()"
   ]
  },
  {
   "cell_type": "code",
   "execution_count": null,
   "metadata": {},
   "outputs": [],
   "source": []
  },
  {
   "cell_type": "code",
   "execution_count": null,
   "metadata": {},
   "outputs": [],
   "source": []
  },
  {
   "cell_type": "markdown",
   "metadata": {
    "id": "3fQyhogupXXD"
   },
   "source": [
    "# Is their an efficient way to do this? Could you use loops. Try to convert it into an efficient code and replace with the above code?\n",
    "\n",
    "\n",
    "# Next - Print few samples of the data to ensure everything is number except 'grades' column."
   ]
  },
  {
   "cell_type": "code",
   "execution_count": 33,
   "metadata": {},
   "outputs": [
    {
     "data": {
      "text/plain": [
       "['sex',\n",
       " 'address',\n",
       " 'famsize',\n",
       " 'Pstatus',\n",
       " 'schoolsup',\n",
       " 'famsup',\n",
       " 'paid',\n",
       " 'activities',\n",
       " 'nursery',\n",
       " 'higher',\n",
       " 'internet',\n",
       " 'romantic']"
      ]
     },
     "execution_count": 33,
     "metadata": {},
     "output_type": "execute_result"
    }
   ],
   "source": [
    "columns_to_numbers = ['sex','address','famsize','Pstatus','schoolsup','famsup',\n",
    "                      'paid','activities','nursery','higher','internet','romantic']\n",
    "columns_to_numbers"
   ]
  },
  {
   "cell_type": "code",
   "execution_count": 34,
   "metadata": {},
   "outputs": [],
   "source": [
    "for column in columns_to_numbers:\n",
    "    labelencoder.fit(data[column])\n",
    "    data[column] = labelencoder.transform(data[column])"
   ]
  },
  {
   "cell_type": "code",
   "execution_count": 35,
   "metadata": {},
   "outputs": [
    {
     "data": {
      "text/plain": [
       "romantic\n",
       "0    263\n",
       "1    132\n",
       "Name: count, dtype: int64"
      ]
     },
     "execution_count": 35,
     "metadata": {},
     "output_type": "execute_result"
    }
   ],
   "source": [
    "# Checking\n",
    "\n",
    "data['romantic'].value_counts()"
   ]
  },
  {
   "cell_type": "code",
   "execution_count": null,
   "metadata": {},
   "outputs": [],
   "source": []
  },
  {
   "cell_type": "code",
   "execution_count": null,
   "metadata": {},
   "outputs": [],
   "source": []
  },
  {
   "cell_type": "code",
   "execution_count": null,
   "metadata": {},
   "outputs": [],
   "source": []
  },
  {
   "cell_type": "code",
   "execution_count": 36,
   "metadata": {
    "id": "BRK943WGELwE"
   },
   "outputs": [
    {
     "data": {
      "text/html": [
       "<div>\n",
       "<style scoped>\n",
       "    .dataframe tbody tr th:only-of-type {\n",
       "        vertical-align: middle;\n",
       "    }\n",
       "\n",
       "    .dataframe tbody tr th {\n",
       "        vertical-align: top;\n",
       "    }\n",
       "\n",
       "    .dataframe thead th {\n",
       "        text-align: right;\n",
       "    }\n",
       "</style>\n",
       "<table border=\"1\" class=\"dataframe\">\n",
       "  <thead>\n",
       "    <tr style=\"text-align: right;\">\n",
       "      <th></th>\n",
       "      <th>sex</th>\n",
       "      <th>age</th>\n",
       "      <th>address</th>\n",
       "      <th>famsize</th>\n",
       "      <th>Pstatus</th>\n",
       "      <th>Medu</th>\n",
       "      <th>Fedu</th>\n",
       "      <th>traveltime</th>\n",
       "      <th>studytime</th>\n",
       "      <th>failures</th>\n",
       "      <th>...</th>\n",
       "      <th>Mjob_other</th>\n",
       "      <th>Mjob_services</th>\n",
       "      <th>Mjob_teacher</th>\n",
       "      <th>reason_course</th>\n",
       "      <th>reason_home</th>\n",
       "      <th>reason_other</th>\n",
       "      <th>reason_reputation</th>\n",
       "      <th>guardian_father</th>\n",
       "      <th>guardian_mother</th>\n",
       "      <th>guardian_other</th>\n",
       "    </tr>\n",
       "  </thead>\n",
       "  <tbody>\n",
       "    <tr>\n",
       "      <th>0</th>\n",
       "      <td>0</td>\n",
       "      <td>18</td>\n",
       "      <td>1</td>\n",
       "      <td>0</td>\n",
       "      <td>0</td>\n",
       "      <td>4</td>\n",
       "      <td>4</td>\n",
       "      <td>2</td>\n",
       "      <td>2</td>\n",
       "      <td>0</td>\n",
       "      <td>...</td>\n",
       "      <td>False</td>\n",
       "      <td>False</td>\n",
       "      <td>False</td>\n",
       "      <td>True</td>\n",
       "      <td>False</td>\n",
       "      <td>False</td>\n",
       "      <td>False</td>\n",
       "      <td>False</td>\n",
       "      <td>True</td>\n",
       "      <td>False</td>\n",
       "    </tr>\n",
       "    <tr>\n",
       "      <th>1</th>\n",
       "      <td>0</td>\n",
       "      <td>17</td>\n",
       "      <td>1</td>\n",
       "      <td>0</td>\n",
       "      <td>1</td>\n",
       "      <td>1</td>\n",
       "      <td>1</td>\n",
       "      <td>1</td>\n",
       "      <td>2</td>\n",
       "      <td>0</td>\n",
       "      <td>...</td>\n",
       "      <td>False</td>\n",
       "      <td>False</td>\n",
       "      <td>False</td>\n",
       "      <td>True</td>\n",
       "      <td>False</td>\n",
       "      <td>False</td>\n",
       "      <td>False</td>\n",
       "      <td>True</td>\n",
       "      <td>False</td>\n",
       "      <td>False</td>\n",
       "    </tr>\n",
       "    <tr>\n",
       "      <th>2</th>\n",
       "      <td>0</td>\n",
       "      <td>15</td>\n",
       "      <td>1</td>\n",
       "      <td>1</td>\n",
       "      <td>1</td>\n",
       "      <td>1</td>\n",
       "      <td>1</td>\n",
       "      <td>1</td>\n",
       "      <td>2</td>\n",
       "      <td>3</td>\n",
       "      <td>...</td>\n",
       "      <td>False</td>\n",
       "      <td>False</td>\n",
       "      <td>False</td>\n",
       "      <td>False</td>\n",
       "      <td>False</td>\n",
       "      <td>True</td>\n",
       "      <td>False</td>\n",
       "      <td>False</td>\n",
       "      <td>True</td>\n",
       "      <td>False</td>\n",
       "    </tr>\n",
       "    <tr>\n",
       "      <th>3</th>\n",
       "      <td>0</td>\n",
       "      <td>15</td>\n",
       "      <td>1</td>\n",
       "      <td>0</td>\n",
       "      <td>1</td>\n",
       "      <td>4</td>\n",
       "      <td>2</td>\n",
       "      <td>1</td>\n",
       "      <td>3</td>\n",
       "      <td>0</td>\n",
       "      <td>...</td>\n",
       "      <td>False</td>\n",
       "      <td>False</td>\n",
       "      <td>False</td>\n",
       "      <td>False</td>\n",
       "      <td>True</td>\n",
       "      <td>False</td>\n",
       "      <td>False</td>\n",
       "      <td>False</td>\n",
       "      <td>True</td>\n",
       "      <td>False</td>\n",
       "    </tr>\n",
       "    <tr>\n",
       "      <th>4</th>\n",
       "      <td>0</td>\n",
       "      <td>16</td>\n",
       "      <td>1</td>\n",
       "      <td>0</td>\n",
       "      <td>1</td>\n",
       "      <td>3</td>\n",
       "      <td>3</td>\n",
       "      <td>1</td>\n",
       "      <td>2</td>\n",
       "      <td>0</td>\n",
       "      <td>...</td>\n",
       "      <td>True</td>\n",
       "      <td>False</td>\n",
       "      <td>False</td>\n",
       "      <td>False</td>\n",
       "      <td>True</td>\n",
       "      <td>False</td>\n",
       "      <td>False</td>\n",
       "      <td>True</td>\n",
       "      <td>False</td>\n",
       "      <td>False</td>\n",
       "    </tr>\n",
       "  </tbody>\n",
       "</table>\n",
       "<p>5 rows × 43 columns</p>\n",
       "</div>"
      ],
      "text/plain": [
       "   sex  age  address  famsize  Pstatus  Medu  Fedu  traveltime  studytime  \\\n",
       "0    0   18        1        0        0     4     4           2          2   \n",
       "1    0   17        1        0        1     1     1           1          2   \n",
       "2    0   15        1        1        1     1     1           1          2   \n",
       "3    0   15        1        0        1     4     2           1          3   \n",
       "4    0   16        1        0        1     3     3           1          2   \n",
       "\n",
       "   failures  ...  Mjob_other  Mjob_services  Mjob_teacher  reason_course  \\\n",
       "0         0  ...       False          False         False           True   \n",
       "1         0  ...       False          False         False           True   \n",
       "2         3  ...       False          False         False          False   \n",
       "3         0  ...       False          False         False          False   \n",
       "4         0  ...        True          False         False          False   \n",
       "\n",
       "   reason_home  reason_other  reason_reputation  guardian_father  \\\n",
       "0        False         False              False            False   \n",
       "1        False         False              False             True   \n",
       "2        False          True              False            False   \n",
       "3         True         False              False            False   \n",
       "4         True         False              False             True   \n",
       "\n",
       "   guardian_mother  guardian_other  \n",
       "0             True           False  \n",
       "1            False           False  \n",
       "2             True           False  \n",
       "3             True           False  \n",
       "4            False           False  \n",
       "\n",
       "[5 rows x 43 columns]"
      ]
     },
     "execution_count": 36,
     "metadata": {},
     "output_type": "execute_result"
    }
   ],
   "source": [
    "# Your code to print first few samples of the data.\n",
    "data.head()"
   ]
  },
  {
   "cell_type": "code",
   "execution_count": 38,
   "metadata": {
    "id": "XRQ8XoLIEWqt"
   },
   "outputs": [
    {
     "name": "stdout",
     "output_type": "stream",
     "text": [
      "<class 'pandas.core.frame.DataFrame'>\n",
      "RangeIndex: 395 entries, 0 to 394\n",
      "Data columns (total 43 columns):\n",
      " #   Column             Non-Null Count  Dtype \n",
      "---  ------             --------------  ----- \n",
      " 0   sex                395 non-null    int64 \n",
      " 1   age                395 non-null    int64 \n",
      " 2   address            395 non-null    int64 \n",
      " 3   famsize            395 non-null    int64 \n",
      " 4   Pstatus            395 non-null    int64 \n",
      " 5   Medu               395 non-null    int64 \n",
      " 6   Fedu               395 non-null    int64 \n",
      " 7   traveltime         395 non-null    int64 \n",
      " 8   studytime          395 non-null    int64 \n",
      " 9   failures           395 non-null    int64 \n",
      " 10  schoolsup          395 non-null    int64 \n",
      " 11  famsup             395 non-null    int64 \n",
      " 12  paid               395 non-null    int64 \n",
      " 13  activities         395 non-null    int64 \n",
      " 14  nursery            395 non-null    int64 \n",
      " 15  higher             395 non-null    int64 \n",
      " 16  internet           395 non-null    int64 \n",
      " 17  romantic           395 non-null    int64 \n",
      " 18  famrel             395 non-null    int64 \n",
      " 19  freetime           395 non-null    int64 \n",
      " 20  goout              395 non-null    int64 \n",
      " 21  Dalc               395 non-null    int64 \n",
      " 22  Walc               395 non-null    int64 \n",
      " 23  health             395 non-null    int64 \n",
      " 24  absences           395 non-null    int64 \n",
      " 25  grades             395 non-null    object\n",
      " 26  Fjob_at_home       395 non-null    bool  \n",
      " 27  Fjob_health        395 non-null    bool  \n",
      " 28  Fjob_other         395 non-null    bool  \n",
      " 29  Fjob_services      395 non-null    bool  \n",
      " 30  Fjob_teacher       395 non-null    bool  \n",
      " 31  Mjob_at_home       395 non-null    bool  \n",
      " 32  Mjob_health        395 non-null    bool  \n",
      " 33  Mjob_other         395 non-null    bool  \n",
      " 34  Mjob_services      395 non-null    bool  \n",
      " 35  Mjob_teacher       395 non-null    bool  \n",
      " 36  reason_course      395 non-null    bool  \n",
      " 37  reason_home        395 non-null    bool  \n",
      " 38  reason_other       395 non-null    bool  \n",
      " 39  reason_reputation  395 non-null    bool  \n",
      " 40  guardian_father    395 non-null    bool  \n",
      " 41  guardian_mother    395 non-null    bool  \n",
      " 42  guardian_other     395 non-null    bool  \n",
      "dtypes: bool(17), int64(25), object(1)\n",
      "memory usage: 86.9+ KB\n"
     ]
    }
   ],
   "source": [
    "# Your code to print information on the samples of data.\n",
    "data.info()"
   ]
  },
  {
   "cell_type": "markdown",
   "metadata": {
    "id": "NuKz-b5Up7hT"
   },
   "source": [
    "# Separate input X and output y.\n",
    "\n",
    "## X is the all columns except 'grades'.\n",
    "## y is 'grades' column."
   ]
  },
  {
   "cell_type": "code",
   "execution_count": 39,
   "metadata": {
    "id": "r8fhN0wDEOuo"
   },
   "outputs": [],
   "source": [
    "# Your code to get X from data\n",
    "X = data.drop('grades',axis=1).values\n",
    "# Your code to get y from data\n"
   ]
  },
  {
   "cell_type": "code",
   "execution_count": 40,
   "metadata": {},
   "outputs": [
    {
     "data": {
      "text/plain": [
       "grades\n",
       "poor            130\n",
       "satisfactory    103\n",
       "good             62\n",
       "very good        60\n",
       "excellent        40\n",
       "Name: count, dtype: int64"
      ]
     },
     "execution_count": 40,
     "metadata": {},
     "output_type": "execute_result"
    }
   ],
   "source": [
    "data['grades'].value_counts()"
   ]
  },
  {
   "cell_type": "code",
   "execution_count": 41,
   "metadata": {},
   "outputs": [
    {
     "data": {
      "text/plain": [
       "grades\n",
       "poor            130\n",
       "satisfactory    103\n",
       "good             62\n",
       "very good        60\n",
       "excellent        40\n",
       "Name: count, dtype: int64"
      ]
     },
     "execution_count": 41,
     "metadata": {},
     "output_type": "execute_result"
    }
   ],
   "source": [
    "data['grades'].value_counts()"
   ]
  },
  {
   "cell_type": "code",
   "execution_count": 42,
   "metadata": {},
   "outputs": [],
   "source": [
    "y = data['grades'].values"
   ]
  },
  {
   "cell_type": "markdown",
   "metadata": {
    "id": "WLFiMsPQqao6"
   },
   "source": [
    "# Print shapes of X and y to make sure everything is good"
   ]
  },
  {
   "cell_type": "code",
   "execution_count": 43,
   "metadata": {
    "id": "VH4eV2mRE2nY"
   },
   "outputs": [
    {
     "name": "stdout",
     "output_type": "stream",
     "text": [
      "(395, 42)\n",
      "(395,)\n",
      "[[0 18 1 ... False True False]\n",
      " [0 17 1 ... True False False]\n",
      " [0 15 1 ... False True False]\n",
      " ...\n",
      " [1 21 0 ... False False True]\n",
      " [1 18 0 ... False True False]\n",
      " [1 19 1 ... True False False]]\n",
      "['poor' 'poor' 'satisfactory' 'very good' 'satisfactory' 'very good'\n",
      " 'satisfactory' 'poor' 'excellent' 'very good' 'poor' 'good' 'very good'\n",
      " 'satisfactory' 'excellent' 'very good' 'very good' 'satisfactory' 'poor'\n",
      " 'satisfactory' 'very good' 'very good' 'excellent' 'good' 'poor' 'poor'\n",
      " 'satisfactory' 'very good' 'satisfactory' 'satisfactory' 'good'\n",
      " 'excellent' 'excellent' 'good' 'very good' 'poor' 'excellent' 'very good'\n",
      " 'satisfactory' 'good' 'satisfactory' 'good' 'excellent' 'satisfactory'\n",
      " 'poor' 'poor' 'satisfactory' 'excellent' 'very good' 'poor' 'good' 'good'\n",
      " 'satisfactory' 'satisfactory' 'good' 'satisfactory' 'very good'\n",
      " 'very good' 'poor' 'excellent' 'satisfactory' 'satisfactory' 'poor'\n",
      " 'poor' 'satisfactory' 'very good' 'good' 'poor' 'poor' 'excellent'\n",
      " 'very good' 'satisfactory' 'poor' 'very good' 'satisfactory'\n",
      " 'satisfactory' 'satisfactory' 'satisfactory' 'satisfactory' 'poor' 'good'\n",
      " 'satisfactory' 'poor' 'very good' 'satisfactory' 'poor' 'poor'\n",
      " 'very good' 'satisfactory' 'poor' 'poor' 'excellent' 'poor'\n",
      " 'satisfactory' 'very good' 'satisfactory' 'very good' 'satisfactory'\n",
      " 'very good' 'poor' 'poor' 'excellent' 'very good' 'poor' 'excellent'\n",
      " 'satisfactory' 'poor' 'excellent' 'good' 'excellent' 'excellent'\n",
      " 'satisfactory' 'good' 'excellent' 'poor' 'excellent' 'very good' 'good'\n",
      " 'poor' 'good' 'very good' 'very good' 'good' 'good' 'poor' 'good'\n",
      " 'satisfactory' 'poor' 'poor' 'excellent' 'poor' 'poor' 'good'\n",
      " 'satisfactory' 'poor' 'poor' 'poor' 'poor' 'good' 'very good' 'poor'\n",
      " 'poor' 'satisfactory' 'good' 'poor' 'satisfactory' 'poor' 'satisfactory'\n",
      " 'poor' 'satisfactory' 'poor' 'very good' 'satisfactory' 'poor' 'good'\n",
      " 'poor' 'good' 'satisfactory' 'very good' 'good' 'poor' 'poor' 'poor'\n",
      " 'satisfactory' 'poor' 'good' 'satisfactory' 'excellent' 'poor'\n",
      " 'very good' 'poor' 'excellent' 'satisfactory' 'poor' 'poor' 'poor'\n",
      " 'satisfactory' 'poor' 'poor' 'satisfactory' 'poor' 'good' 'excellent'\n",
      " 'poor' 'good' 'satisfactory' 'satisfactory' 'very good' 'poor'\n",
      " 'satisfactory' 'good' 'poor' 'poor' 'satisfactory' 'very good'\n",
      " 'very good' 'excellent' 'satisfactory' 'excellent' 'satisfactory'\n",
      " 'excellent' 'satisfactory' 'satisfactory' 'poor' 'satisfactory' 'poor'\n",
      " 'poor' 'good' 'satisfactory' 'poor' 'poor' 'good' 'very good' 'poor'\n",
      " 'satisfactory' 'very good' 'poor' 'poor' 'poor' 'satisfactory' 'poor'\n",
      " 'poor' 'excellent' 'good' 'very good' 'poor' 'very good' 'good' 'poor'\n",
      " 'good' 'very good' 'satisfactory' 'poor' 'good' 'poor' 'satisfactory'\n",
      " 'good' 'good' 'satisfactory' 'poor' 'good' 'good' 'poor' 'good' 'poor'\n",
      " 'excellent' 'good' 'poor' 'poor' 'very good' 'poor' 'satisfactory' 'poor'\n",
      " 'poor' 'good' 'poor' 'good' 'satisfactory' 'very good' 'poor' 'excellent'\n",
      " 'poor' 'good' 'poor' 'poor' 'excellent' 'satisfactory' 'satisfactory'\n",
      " 'satisfactory' 'poor' 'poor' 'very good' 'satisfactory' 'very good'\n",
      " 'satisfactory' 'good' 'poor' 'poor' 'poor' 'satisfactory' 'poor'\n",
      " 'satisfactory' 'good' 'satisfactory' 'satisfactory' 'satisfactory'\n",
      " 'excellent' 'good' 'very good' 'very good' 'satisfactory' 'very good'\n",
      " 'good' 'excellent' 'very good' 'satisfactory' 'poor' 'poor' 'very good'\n",
      " 'excellent' 'satisfactory' 'satisfactory' 'very good' 'excellent' 'good'\n",
      " 'good' 'excellent' 'poor' 'good' 'satisfactory' 'poor' 'good'\n",
      " 'satisfactory' 'satisfactory' 'good' 'satisfactory' 'poor' 'poor'\n",
      " 'satisfactory' 'satisfactory' 'good' 'poor' 'satisfactory' 'very good'\n",
      " 'very good' 'satisfactory' 'excellent' 'satisfactory' 'poor' 'very good'\n",
      " 'poor' 'very good' 'poor' 'poor' 'poor' 'very good' 'good' 'poor'\n",
      " 'excellent' 'satisfactory' 'satisfactory' 'poor' 'very good' 'poor'\n",
      " 'satisfactory' 'very good' 'excellent' 'poor' 'very good' 'good' 'poor'\n",
      " 'good' 'poor' 'poor' 'satisfactory' 'poor' 'good' 'satisfactory'\n",
      " 'satisfactory' 'excellent' 'good' 'good' 'satisfactory' 'very good'\n",
      " 'good' 'satisfactory' 'good' 'poor' 'satisfactory' 'satisfactory' 'poor'\n",
      " 'good' 'satisfactory' 'poor' 'excellent' 'satisfactory' 'very good'\n",
      " 'satisfactory' 'very good' 'satisfactory' 'very good' 'poor'\n",
      " 'satisfactory' 'poor' 'poor' 'satisfactory' 'poor' 'poor' 'poor' 'poor'\n",
      " 'poor' 'excellent' 'poor' 'satisfactory' 'poor']\n"
     ]
    }
   ],
   "source": [
    "# Print shape of X\n",
    "print(X.shape)\n",
    "\n",
    "# Print shape of y\n",
    "print(y.shape)\n",
    "\n",
    "# Print X\n",
    "print(X)\n",
    "\n",
    "# Print y\n",
    "print(y)"
   ]
  },
  {
   "cell_type": "markdown",
   "metadata": {
    "id": "4hyT6KvSrMS7"
   },
   "source": [
    "# Next  - Split data into train and test set."
   ]
  },
  {
   "cell_type": "code",
   "execution_count": 45,
   "metadata": {
    "id": "fOZc-ZZ_FLis"
   },
   "outputs": [
    {
     "name": "stdout",
     "output_type": "stream",
     "text": [
      "(355, 42)\n",
      "(40, 42)\n",
      "(355,)\n",
      "(40,)\n"
     ]
    }
   ],
   "source": [
    "# Your code to split data into train and test set.\n",
    "\n",
    "\n",
    "\n",
    "X_train, X_test, y_train, y_test = train_test_split (X, y, test_size = 0.1, random_state = 42)\n",
    "\n",
    "#\n",
    "#\n",
    "# Print shapes of train and test data to make sure everyhing is in order.\n",
    "#\n",
    "#\n",
    "print (X_train.shape)\n",
    "print (X_test.shape)\n",
    "\n",
    "print (y_train.shape)\n",
    "print (y_test.shape)\n"
   ]
  },
  {
   "cell_type": "code",
   "execution_count": 46,
   "metadata": {},
   "outputs": [],
   "source": [
    "# normalisation\n",
    "\n",
    "scaler = StandardScaler()\n",
    "\n",
    "X_train = scaler.fit_transform(X_train)\n",
    "X_test = scaler.transform(X_test)"
   ]
  },
  {
   "cell_type": "markdown",
   "metadata": {
    "id": "nBeDtKRSrk_C"
   },
   "source": [
    "# Next - Develop a SVM classifier and fit into the train dataset."
   ]
  },
  {
   "cell_type": "code",
   "execution_count": 47,
   "metadata": {
    "id": "szt5cUJmFk4W"
   },
   "outputs": [
    {
     "data": {
      "text/html": [
       "<style>#sk-container-id-1 {color: black;}#sk-container-id-1 pre{padding: 0;}#sk-container-id-1 div.sk-toggleable {background-color: white;}#sk-container-id-1 label.sk-toggleable__label {cursor: pointer;display: block;width: 100%;margin-bottom: 0;padding: 0.3em;box-sizing: border-box;text-align: center;}#sk-container-id-1 label.sk-toggleable__label-arrow:before {content: \"▸\";float: left;margin-right: 0.25em;color: #696969;}#sk-container-id-1 label.sk-toggleable__label-arrow:hover:before {color: black;}#sk-container-id-1 div.sk-estimator:hover label.sk-toggleable__label-arrow:before {color: black;}#sk-container-id-1 div.sk-toggleable__content {max-height: 0;max-width: 0;overflow: hidden;text-align: left;background-color: #f0f8ff;}#sk-container-id-1 div.sk-toggleable__content pre {margin: 0.2em;color: black;border-radius: 0.25em;background-color: #f0f8ff;}#sk-container-id-1 input.sk-toggleable__control:checked~div.sk-toggleable__content {max-height: 200px;max-width: 100%;overflow: auto;}#sk-container-id-1 input.sk-toggleable__control:checked~label.sk-toggleable__label-arrow:before {content: \"▾\";}#sk-container-id-1 div.sk-estimator input.sk-toggleable__control:checked~label.sk-toggleable__label {background-color: #d4ebff;}#sk-container-id-1 div.sk-label input.sk-toggleable__control:checked~label.sk-toggleable__label {background-color: #d4ebff;}#sk-container-id-1 input.sk-hidden--visually {border: 0;clip: rect(1px 1px 1px 1px);clip: rect(1px, 1px, 1px, 1px);height: 1px;margin: -1px;overflow: hidden;padding: 0;position: absolute;width: 1px;}#sk-container-id-1 div.sk-estimator {font-family: monospace;background-color: #f0f8ff;border: 1px dotted black;border-radius: 0.25em;box-sizing: border-box;margin-bottom: 0.5em;}#sk-container-id-1 div.sk-estimator:hover {background-color: #d4ebff;}#sk-container-id-1 div.sk-parallel-item::after {content: \"\";width: 100%;border-bottom: 1px solid gray;flex-grow: 1;}#sk-container-id-1 div.sk-label:hover label.sk-toggleable__label {background-color: #d4ebff;}#sk-container-id-1 div.sk-serial::before {content: \"\";position: absolute;border-left: 1px solid gray;box-sizing: border-box;top: 0;bottom: 0;left: 50%;z-index: 0;}#sk-container-id-1 div.sk-serial {display: flex;flex-direction: column;align-items: center;background-color: white;padding-right: 0.2em;padding-left: 0.2em;position: relative;}#sk-container-id-1 div.sk-item {position: relative;z-index: 1;}#sk-container-id-1 div.sk-parallel {display: flex;align-items: stretch;justify-content: center;background-color: white;position: relative;}#sk-container-id-1 div.sk-item::before, #sk-container-id-1 div.sk-parallel-item::before {content: \"\";position: absolute;border-left: 1px solid gray;box-sizing: border-box;top: 0;bottom: 0;left: 50%;z-index: -1;}#sk-container-id-1 div.sk-parallel-item {display: flex;flex-direction: column;z-index: 1;position: relative;background-color: white;}#sk-container-id-1 div.sk-parallel-item:first-child::after {align-self: flex-end;width: 50%;}#sk-container-id-1 div.sk-parallel-item:last-child::after {align-self: flex-start;width: 50%;}#sk-container-id-1 div.sk-parallel-item:only-child::after {width: 0;}#sk-container-id-1 div.sk-dashed-wrapped {border: 1px dashed gray;margin: 0 0.4em 0.5em 0.4em;box-sizing: border-box;padding-bottom: 0.4em;background-color: white;}#sk-container-id-1 div.sk-label label {font-family: monospace;font-weight: bold;display: inline-block;line-height: 1.2em;}#sk-container-id-1 div.sk-label-container {text-align: center;}#sk-container-id-1 div.sk-container {/* jupyter's `normalize.less` sets `[hidden] { display: none; }` but bootstrap.min.css set `[hidden] { display: none !important; }` so we also need the `!important` here to be able to override the default hidden behavior on the sphinx rendered scikit-learn.org. See: https://github.com/scikit-learn/scikit-learn/issues/21755 */display: inline-block !important;position: relative;}#sk-container-id-1 div.sk-text-repr-fallback {display: none;}</style><div id=\"sk-container-id-1\" class=\"sk-top-container\"><div class=\"sk-text-repr-fallback\"><pre>SVC()</pre><b>In a Jupyter environment, please rerun this cell to show the HTML representation or trust the notebook. <br />On GitHub, the HTML representation is unable to render, please try loading this page with nbviewer.org.</b></div><div class=\"sk-container\" hidden><div class=\"sk-item\"><div class=\"sk-estimator sk-toggleable\"><input class=\"sk-toggleable__control sk-hidden--visually\" id=\"sk-estimator-id-1\" type=\"checkbox\" checked><label for=\"sk-estimator-id-1\" class=\"sk-toggleable__label sk-toggleable__label-arrow\">SVC</label><div class=\"sk-toggleable__content\"><pre>SVC()</pre></div></div></div></div></div>"
      ],
      "text/plain": [
       "SVC()"
      ]
     },
     "execution_count": 47,
     "metadata": {},
     "output_type": "execute_result"
    }
   ],
   "source": [
    "classifier = SVC(kernel = 'rbf')\n",
    "classifier.fit(X_train, y_train)"
   ]
  },
  {
   "cell_type": "markdown",
   "metadata": {
    "id": "UOVakx9srydx"
   },
   "source": [
    "# Next - prdict the values on the input test set.\n",
    "\n",
    "# Find accuracy, precision, recall, f-score."
   ]
  },
  {
   "cell_type": "code",
   "execution_count": 49,
   "metadata": {},
   "outputs": [],
   "source": [
    "from sklearn.metrics import classification_report, accuracy_score, recall_score, f1_score"
   ]
  },
  {
   "cell_type": "code",
   "execution_count": 50,
   "metadata": {},
   "outputs": [
    {
     "data": {
      "text/html": [
       "<style>#sk-container-id-2 {color: black;}#sk-container-id-2 pre{padding: 0;}#sk-container-id-2 div.sk-toggleable {background-color: white;}#sk-container-id-2 label.sk-toggleable__label {cursor: pointer;display: block;width: 100%;margin-bottom: 0;padding: 0.3em;box-sizing: border-box;text-align: center;}#sk-container-id-2 label.sk-toggleable__label-arrow:before {content: \"▸\";float: left;margin-right: 0.25em;color: #696969;}#sk-container-id-2 label.sk-toggleable__label-arrow:hover:before {color: black;}#sk-container-id-2 div.sk-estimator:hover label.sk-toggleable__label-arrow:before {color: black;}#sk-container-id-2 div.sk-toggleable__content {max-height: 0;max-width: 0;overflow: hidden;text-align: left;background-color: #f0f8ff;}#sk-container-id-2 div.sk-toggleable__content pre {margin: 0.2em;color: black;border-radius: 0.25em;background-color: #f0f8ff;}#sk-container-id-2 input.sk-toggleable__control:checked~div.sk-toggleable__content {max-height: 200px;max-width: 100%;overflow: auto;}#sk-container-id-2 input.sk-toggleable__control:checked~label.sk-toggleable__label-arrow:before {content: \"▾\";}#sk-container-id-2 div.sk-estimator input.sk-toggleable__control:checked~label.sk-toggleable__label {background-color: #d4ebff;}#sk-container-id-2 div.sk-label input.sk-toggleable__control:checked~label.sk-toggleable__label {background-color: #d4ebff;}#sk-container-id-2 input.sk-hidden--visually {border: 0;clip: rect(1px 1px 1px 1px);clip: rect(1px, 1px, 1px, 1px);height: 1px;margin: -1px;overflow: hidden;padding: 0;position: absolute;width: 1px;}#sk-container-id-2 div.sk-estimator {font-family: monospace;background-color: #f0f8ff;border: 1px dotted black;border-radius: 0.25em;box-sizing: border-box;margin-bottom: 0.5em;}#sk-container-id-2 div.sk-estimator:hover {background-color: #d4ebff;}#sk-container-id-2 div.sk-parallel-item::after {content: \"\";width: 100%;border-bottom: 1px solid gray;flex-grow: 1;}#sk-container-id-2 div.sk-label:hover label.sk-toggleable__label {background-color: #d4ebff;}#sk-container-id-2 div.sk-serial::before {content: \"\";position: absolute;border-left: 1px solid gray;box-sizing: border-box;top: 0;bottom: 0;left: 50%;z-index: 0;}#sk-container-id-2 div.sk-serial {display: flex;flex-direction: column;align-items: center;background-color: white;padding-right: 0.2em;padding-left: 0.2em;position: relative;}#sk-container-id-2 div.sk-item {position: relative;z-index: 1;}#sk-container-id-2 div.sk-parallel {display: flex;align-items: stretch;justify-content: center;background-color: white;position: relative;}#sk-container-id-2 div.sk-item::before, #sk-container-id-2 div.sk-parallel-item::before {content: \"\";position: absolute;border-left: 1px solid gray;box-sizing: border-box;top: 0;bottom: 0;left: 50%;z-index: -1;}#sk-container-id-2 div.sk-parallel-item {display: flex;flex-direction: column;z-index: 1;position: relative;background-color: white;}#sk-container-id-2 div.sk-parallel-item:first-child::after {align-self: flex-end;width: 50%;}#sk-container-id-2 div.sk-parallel-item:last-child::after {align-self: flex-start;width: 50%;}#sk-container-id-2 div.sk-parallel-item:only-child::after {width: 0;}#sk-container-id-2 div.sk-dashed-wrapped {border: 1px dashed gray;margin: 0 0.4em 0.5em 0.4em;box-sizing: border-box;padding-bottom: 0.4em;background-color: white;}#sk-container-id-2 div.sk-label label {font-family: monospace;font-weight: bold;display: inline-block;line-height: 1.2em;}#sk-container-id-2 div.sk-label-container {text-align: center;}#sk-container-id-2 div.sk-container {/* jupyter's `normalize.less` sets `[hidden] { display: none; }` but bootstrap.min.css set `[hidden] { display: none !important; }` so we also need the `!important` here to be able to override the default hidden behavior on the sphinx rendered scikit-learn.org. See: https://github.com/scikit-learn/scikit-learn/issues/21755 */display: inline-block !important;position: relative;}#sk-container-id-2 div.sk-text-repr-fallback {display: none;}</style><div id=\"sk-container-id-2\" class=\"sk-top-container\"><div class=\"sk-text-repr-fallback\"><pre>SVC()</pre><b>In a Jupyter environment, please rerun this cell to show the HTML representation or trust the notebook. <br />On GitHub, the HTML representation is unable to render, please try loading this page with nbviewer.org.</b></div><div class=\"sk-container\" hidden><div class=\"sk-item\"><div class=\"sk-estimator sk-toggleable\"><input class=\"sk-toggleable__control sk-hidden--visually\" id=\"sk-estimator-id-2\" type=\"checkbox\" checked><label for=\"sk-estimator-id-2\" class=\"sk-toggleable__label sk-toggleable__label-arrow\">SVC</label><div class=\"sk-toggleable__content\"><pre>SVC()</pre></div></div></div></div></div>"
      ],
      "text/plain": [
       "SVC()"
      ]
     },
     "execution_count": 50,
     "metadata": {},
     "output_type": "execute_result"
    }
   ],
   "source": [
    "classifier = SVC(kernel = 'rbf')\n",
    "classifier.fit(X_train, y_train)"
   ]
  },
  {
   "cell_type": "code",
   "execution_count": 51,
   "metadata": {
    "id": "VyqqIAX3F-CH"
   },
   "outputs": [
    {
     "name": "stdout",
     "output_type": "stream",
     "text": [
      "Accuracy test set:  0.325\n",
      "None\n",
      "Precision test set:  0.325\n",
      "None\n",
      "Recall test set:  0.325\n",
      "None\n",
      "F-score test set:  0.325\n",
      "None\n",
      "              precision    recall  f1-score   support\n",
      "\n",
      "   excellent       1.00      0.20      0.33         5\n",
      "        good       0.00      0.00      0.00         4\n",
      "        poor       0.47      0.47      0.47        15\n",
      "satisfactory       0.21      0.57      0.31         7\n",
      "   very good       0.25      0.11      0.15         9\n",
      "\n",
      "    accuracy                           0.33        40\n",
      "   macro avg       0.39      0.27      0.25        40\n",
      "weighted avg       0.39      0.33      0.31        40\n",
      "\n"
     ]
    }
   ],
   "source": [
    "y_pred = classifier.predict(X_test)\n",
    "\n",
    "print (print(\"Accuracy test set: \", accuracy_score(y_test, y_pred)))\n",
    "\n",
    "print (print(\"Precision test set: \", precision_score(y_test, y_pred, average = 'micro' )))\n",
    "print (print(\"Recall test set: \", recall_score(y_test, y_pred, average = 'micro' )))\n",
    "print (print(\"F-score test set: \", f1_score(y_test, y_pred, average = 'micro' )))\n",
    "\n",
    "print (classification_report(y_test, y_pred))"
   ]
  },
  {
   "cell_type": "code",
   "execution_count": 54,
   "metadata": {},
   "outputs": [
    {
     "name": "stdout",
     "output_type": "stream",
     "text": [
      "Test Scores for Models: [0.325]\n"
     ]
    }
   ],
   "source": [
    "test_scores_models = []  # Initialize the list before using it\n",
    "\n",
    "# Assuming you've already defined and trained your SVM model (classifier_svm)\n",
    "from sklearn.svm import SVC\n",
    "\n",
    "# Instantiate the SVM classifier\n",
    "classifier_svm = SVC(kernel='rbf', C=1.0, gamma='scale')  # You may need to adjust the parameters\n",
    "\n",
    "# Train the SVM model on your training data (X_train, y_train)\n",
    "classifier_svm.fit(X_train, y_train)\n",
    "\n",
    "# Make predictions on the test set\n",
    "y_pred_svm = classifier_svm.predict(X_test)\n",
    "\n",
    "# Calculate accuracy for SVM (RBF)\n",
    "accuracy_svm = accuracy_score(y_test, y_pred_svm)\n",
    "\n",
    "# Add accuracy value for SVM (RBF) to the list\n",
    "test_scores_models.append(accuracy_svm)\n",
    "\n",
    "# Print the updated list\n",
    "print(\"Test Scores for Models:\", test_scores_models)\n"
   ]
  },
  {
   "cell_type": "code",
   "execution_count": null,
   "metadata": {},
   "outputs": [],
   "source": []
  },
  {
   "cell_type": "code",
   "execution_count": 55,
   "metadata": {},
   "outputs": [
    {
     "name": "stdout",
     "output_type": "stream",
     "text": [
      "['SVM(rbf)']\n"
     ]
    }
   ],
   "source": [
    "models = []  # Initialize the list before using it\n",
    "\n",
    "# Add model to the list\n",
    "models.append('SVM(rbf)')\n",
    "print(models)\n"
   ]
  },
  {
   "cell_type": "code",
   "execution_count": null,
   "metadata": {},
   "outputs": [],
   "source": []
  },
  {
   "cell_type": "markdown",
   "metadata": {
    "id": "CTbrJR-bsISW"
   },
   "source": [
    "# Find accuracy, precision, recall, and f-score on training dataset."
   ]
  },
  {
   "cell_type": "code",
   "execution_count": 56,
   "metadata": {
    "id": "ybvmCBscGHAd"
   },
   "outputs": [
    {
     "name": "stdout",
     "output_type": "stream",
     "text": [
      "Accuracy train set:  0.7408450704225352\n",
      "None\n",
      "Precision train set:  0.7408450704225352\n",
      "None\n",
      "Recall train set:  0.7408450704225352\n",
      "None\n",
      "F-score train set:  0.7408450704225351\n",
      "None\n",
      "              precision    recall  f1-score   support\n",
      "\n",
      "   excellent       1.00      0.43      0.60        35\n",
      "        good       1.00      0.48      0.65        58\n",
      "        poor       0.73      0.93      0.82       115\n",
      "satisfactory       0.65      0.86      0.74        96\n",
      "   very good       0.79      0.59      0.67        51\n",
      "\n",
      "    accuracy                           0.74       355\n",
      "   macro avg       0.83      0.66      0.70       355\n",
      "weighted avg       0.79      0.74      0.73       355\n",
      "\n"
     ]
    }
   ],
   "source": [
    "train_data_predictions = classifier.predict(X_train)\n",
    "\n",
    "print (print(\"Accuracy train set: \", accuracy_score(y_train, train_data_predictions)))\n",
    "print (print(\"Precision train set: \", precision_score(y_train, train_data_predictions, average = 'micro' )))\n",
    "print (print(\"Recall train set: \", recall_score(y_train, train_data_predictions, average = 'micro' )))\n",
    "print (print(\"F-score train set: \", f1_score(y_train, train_data_predictions, average = 'micro' )))\n",
    "\n",
    "print (classification_report(y_train, train_data_predictions))"
   ]
  },
  {
   "cell_type": "code",
   "execution_count": 57,
   "metadata": {},
   "outputs": [
    {
     "data": {
      "text/plain": [
       "poor            15\n",
       "very good        9\n",
       "satisfactory     7\n",
       "excellent        5\n",
       "good             4\n",
       "Name: count, dtype: int64"
      ]
     },
     "execution_count": 57,
     "metadata": {},
     "output_type": "execute_result"
    }
   ],
   "source": [
    "# low metric values on the Test dataset due to imbalance of y_test\n",
    "# Confirm the unbalancing\n",
    "\n",
    "y_test_df = pd.DataFrame(y_test)\n",
    "y_test_df.value_counts()"
   ]
  },
  {
   "cell_type": "code",
   "execution_count": 58,
   "metadata": {},
   "outputs": [
    {
     "data": {
      "text/plain": [
       "poor            115\n",
       "satisfactory     96\n",
       "good             58\n",
       "very good        51\n",
       "excellent        35\n",
       "Name: count, dtype: int64"
      ]
     },
     "execution_count": 58,
     "metadata": {},
     "output_type": "execute_result"
    }
   ],
   "source": [
    "# y_train - also unbalanced\n",
    "\n",
    "y_train_df = pd.DataFrame(y_train)\n",
    "y_train_df.value_counts()"
   ]
  },
  {
   "cell_type": "markdown",
   "metadata": {
    "id": "T0UU5cuA4Q3L"
   },
   "source": [
    "# Display confusion matrix between actual and predicted values on the test data."
   ]
  },
  {
   "cell_type": "code",
   "execution_count": 60,
   "metadata": {},
   "outputs": [],
   "source": [
    "from sklearn.metrics import confusion_matrix, ConfusionMatrixDisplay"
   ]
  },
  {
   "cell_type": "code",
   "execution_count": 61,
   "metadata": {
    "id": "3_Z2SazyJvYk"
   },
   "outputs": [
    {
     "data": {
      "image/png": "[encoded data removed]",
      "text/plain": [
       "<Figure size 640x480 with 2 Axes>"
      ]
     },
     "metadata": {},
     "output_type": "display_data"
    }
   ],
   "source": [
    "#\n",
    "# Your code to display confusion matrix between predicted output and actual output\n",
    "#\n",
    "#\n",
    "\n",
    "\n",
    "cm = confusion_matrix(y_test, y_pred) \n",
    "disp = ConfusionMatrixDisplay(confusion_matrix = cm, display_labels = classifier.classes_)\n",
    "disp.plot()\n",
    "plt.show()\n",
    "\n"
   ]
  },
  {
   "cell_type": "markdown",
   "metadata": {
    "id": "jIMKzhs-snho"
   },
   "source": [
    "# Earlier, we used rfb Kernel. Now, we will test other kernels too.\n",
    "\n",
    "# We will test on ['linear', 'poly', 'rbf', 'sigmoid' ] kernels."
   ]
  },
  {
   "cell_type": "code",
   "execution_count": 62,
   "metadata": {
    "id": "a1-0QwpEPOXo"
   },
   "outputs": [],
   "source": [
    "# Create a list kernels with values ['linear', 'poly', 'rbf', 'sigmoid' ]\n",
    "\n",
    "kernels = ['linear', 'poly', 'rbf', 'sigmoid']\n",
    "\n",
    "# Create an empty list accuracy\n",
    "\n",
    "accuracy = []"
   ]
  },
  {
   "cell_type": "markdown",
   "metadata": {
    "id": "Ih5LFAvQtvaI"
   },
   "source": [
    "# Which Kernel function is giving you best accuracy?\n",
    "\n",
    "# Next - Develop KNN and Losgistic regression classifiers for this dataset."
   ]
  },
  {
   "cell_type": "code",
   "execution_count": 63,
   "metadata": {
    "id": "SYfRy7buJ5uw"
   },
   "outputs": [],
   "source": [
    "#\n",
    "# Develop KNN-based classifier. Use number of neigbours of your choice\n",
    "#\n",
    "for kernel in kernels:\n",
    "    \n",
    "    # Your code to compare the classifier for different Kernesls\n",
    "\n",
    "    classifier = SVC(kernel = kernel)\n",
    "    classifier.fit(X_train, y_train)\n",
    "    \n",
    "    test_pred = classifier.predict(X_test)\n",
    "    \n",
    "    test_score = accuracy_score(y_test, test_pred)\n",
    "    \n",
    "    accuracy.append(test_score)\n",
    "    "
   ]
  },
  {
   "cell_type": "code",
   "execution_count": 64,
   "metadata": {},
   "outputs": [
    {
     "data": {
      "text/plain": [
       "[0.35, 0.375, 0.325, 0.35]"
      ]
     },
     "execution_count": 64,
     "metadata": {},
     "output_type": "execute_result"
    }
   ],
   "source": [
    "accuracy"
   ]
  },
  {
   "cell_type": "code",
   "execution_count": 65,
   "metadata": {
    "scrolled": true
   },
   "outputs": [
    {
     "data": {
      "image/png": "[encoded data removed]",
      "text/plain": [
       "<Figure size 640x480 with 1 Axes>"
      ]
     },
     "metadata": {},
     "output_type": "display_data"
    }
   ],
   "source": [
    "# Your code to plot accuracy vs kernels\n",
    "\n",
    "plt.title('Accuracy vs Kernels')    \n",
    "\n",
    "plt.bar(kernels, accuracy)\n",
    "\n",
    "plt.xlabel('Kernels')\n",
    "plt.ylabel('Testing Accuracy')\n",
    "\n",
    "plt.show()\n",
    "\n"
   ]
  },
  {
   "cell_type": "code",
   "execution_count": 66,
   "metadata": {},
   "outputs": [
    {
     "data": {
      "text/plain": [
       "[0.325, 0.375]"
      ]
     },
     "execution_count": 66,
     "metadata": {},
     "output_type": "execute_result"
    }
   ],
   "source": [
    "# add accuracy value for SVM\n",
    "\n",
    "test_scores_models.append(accuracy[1])\n",
    "test_scores_models"
   ]
  },
  {
   "cell_type": "code",
   "execution_count": 67,
   "metadata": {},
   "outputs": [
    {
     "data": {
      "text/plain": [
       "['SVM(rbf)', 'SVM(Poly)']"
      ]
     },
     "execution_count": 67,
     "metadata": {},
     "output_type": "execute_result"
    }
   ],
   "source": [
    "# add model to the list\n",
    "\n",
    "models.append('SVM(Poly)')\n",
    "models"
   ]
  },
  {
   "cell_type": "markdown",
   "metadata": {
    "id": "IHG56qf5uS-Z"
   },
   "source": [
    "# Evaluate KNN for accuracy, precision, recall, f-score, and classification report on test data."
   ]
  },
  {
   "cell_type": "code",
   "execution_count": null,
   "metadata": {
    "id": "JC4ReMe-KeZl"
   },
   "outputs": [],
   "source": [
    "#\n",
    "#\n",
    "# Your code to evaluate the classifer on test data\n",
    "#\n",
    "#"
   ]
  },
  {
   "cell_type": "code",
   "execution_count": 68,
   "metadata": {},
   "outputs": [],
   "source": [
    "from sklearn.neighbors import KNeighborsClassifier\n",
    "from sklearn.linear_model import LogisticRegression"
   ]
  },
  {
   "cell_type": "code",
   "execution_count": 69,
   "metadata": {},
   "outputs": [
    {
     "data": {
      "text/html": [
       "<style>#sk-container-id-3 {color: black;}#sk-container-id-3 pre{padding: 0;}#sk-container-id-3 div.sk-toggleable {background-color: white;}#sk-container-id-3 label.sk-toggleable__label {cursor: pointer;display: block;width: 100%;margin-bottom: 0;padding: 0.3em;box-sizing: border-box;text-align: center;}#sk-container-id-3 label.sk-toggleable__label-arrow:before {content: \"▸\";float: left;margin-right: 0.25em;color: #696969;}#sk-container-id-3 label.sk-toggleable__label-arrow:hover:before {color: black;}#sk-container-id-3 div.sk-estimator:hover label.sk-toggleable__label-arrow:before {color: black;}#sk-container-id-3 div.sk-toggleable__content {max-height: 0;max-width: 0;overflow: hidden;text-align: left;background-color: #f0f8ff;}#sk-container-id-3 div.sk-toggleable__content pre {margin: 0.2em;color: black;border-radius: 0.25em;background-color: #f0f8ff;}#sk-container-id-3 input.sk-toggleable__control:checked~div.sk-toggleable__content {max-height: 200px;max-width: 100%;overflow: auto;}#sk-container-id-3 input.sk-toggleable__control:checked~label.sk-toggleable__label-arrow:before {content: \"▾\";}#sk-container-id-3 div.sk-estimator input.sk-toggleable__control:checked~label.sk-toggleable__label {background-color: #d4ebff;}#sk-container-id-3 div.sk-label input.sk-toggleable__control:checked~label.sk-toggleable__label {background-color: #d4ebff;}#sk-container-id-3 input.sk-hidden--visually {border: 0;clip: rect(1px 1px 1px 1px);clip: rect(1px, 1px, 1px, 1px);height: 1px;margin: -1px;overflow: hidden;padding: 0;position: absolute;width: 1px;}#sk-container-id-3 div.sk-estimator {font-family: monospace;background-color: #f0f8ff;border: 1px dotted black;border-radius: 0.25em;box-sizing: border-box;margin-bottom: 0.5em;}#sk-container-id-3 div.sk-estimator:hover {background-color: #d4ebff;}#sk-container-id-3 div.sk-parallel-item::after {content: \"\";width: 100%;border-bottom: 1px solid gray;flex-grow: 1;}#sk-container-id-3 div.sk-label:hover label.sk-toggleable__label {background-color: #d4ebff;}#sk-container-id-3 div.sk-serial::before {content: \"\";position: absolute;border-left: 1px solid gray;box-sizing: border-box;top: 0;bottom: 0;left: 50%;z-index: 0;}#sk-container-id-3 div.sk-serial {display: flex;flex-direction: column;align-items: center;background-color: white;padding-right: 0.2em;padding-left: 0.2em;position: relative;}#sk-container-id-3 div.sk-item {position: relative;z-index: 1;}#sk-container-id-3 div.sk-parallel {display: flex;align-items: stretch;justify-content: center;background-color: white;position: relative;}#sk-container-id-3 div.sk-item::before, #sk-container-id-3 div.sk-parallel-item::before {content: \"\";position: absolute;border-left: 1px solid gray;box-sizing: border-box;top: 0;bottom: 0;left: 50%;z-index: -1;}#sk-container-id-3 div.sk-parallel-item {display: flex;flex-direction: column;z-index: 1;position: relative;background-color: white;}#sk-container-id-3 div.sk-parallel-item:first-child::after {align-self: flex-end;width: 50%;}#sk-container-id-3 div.sk-parallel-item:last-child::after {align-self: flex-start;width: 50%;}#sk-container-id-3 div.sk-parallel-item:only-child::after {width: 0;}#sk-container-id-3 div.sk-dashed-wrapped {border: 1px dashed gray;margin: 0 0.4em 0.5em 0.4em;box-sizing: border-box;padding-bottom: 0.4em;background-color: white;}#sk-container-id-3 div.sk-label label {font-family: monospace;font-weight: bold;display: inline-block;line-height: 1.2em;}#sk-container-id-3 div.sk-label-container {text-align: center;}#sk-container-id-3 div.sk-container {/* jupyter's `normalize.less` sets `[hidden] { display: none; }` but bootstrap.min.css set `[hidden] { display: none !important; }` so we also need the `!important` here to be able to override the default hidden behavior on the sphinx rendered scikit-learn.org. See: https://github.com/scikit-learn/scikit-learn/issues/21755 */display: inline-block !important;position: relative;}#sk-container-id-3 div.sk-text-repr-fallback {display: none;}</style><div id=\"sk-container-id-3\" class=\"sk-top-container\"><div class=\"sk-text-repr-fallback\"><pre>KNeighborsClassifier()</pre><b>In a Jupyter environment, please rerun this cell to show the HTML representation or trust the notebook. <br />On GitHub, the HTML representation is unable to render, please try loading this page with nbviewer.org.</b></div><div class=\"sk-container\" hidden><div class=\"sk-item\"><div class=\"sk-estimator sk-toggleable\"><input class=\"sk-toggleable__control sk-hidden--visually\" id=\"sk-estimator-id-3\" type=\"checkbox\" checked><label for=\"sk-estimator-id-3\" class=\"sk-toggleable__label sk-toggleable__label-arrow\">KNeighborsClassifier</label><div class=\"sk-toggleable__content\"><pre>KNeighborsClassifier()</pre></div></div></div></div></div>"
      ],
      "text/plain": [
       "KNeighborsClassifier()"
      ]
     },
     "execution_count": 69,
     "metadata": {},
     "output_type": "execute_result"
    }
   ],
   "source": [
    "# Develop KNN-based classifier. Use number of neigbours of your choice\n",
    "\n",
    "\n",
    "knn = KNeighborsClassifier(n_neighbors = 5)\n",
    "knn.fit(X_train, y_train)"
   ]
  },
  {
   "cell_type": "code",
   "execution_count": 70,
   "metadata": {},
   "outputs": [
    {
     "name": "stdout",
     "output_type": "stream",
     "text": [
      "Accuracy test set:  0.325\n",
      "Precision test set:  0.325\n",
      "Recall test set:  0.325\n",
      "F-score test set:  0.325\n",
      "              precision    recall  f1-score   support\n",
      "\n",
      "   excellent       1.00      0.40      0.57         5\n",
      "        good       0.17      0.25      0.20         4\n",
      "        poor       0.44      0.47      0.45        15\n",
      "satisfactory       0.15      0.29      0.20         7\n",
      "   very good       0.33      0.11      0.17         9\n",
      "\n",
      "    accuracy                           0.33        40\n",
      "   macro avg       0.42      0.30      0.32        40\n",
      "weighted avg       0.41      0.33      0.33        40\n",
      "\n"
     ]
    }
   ],
   "source": [
    "# Your code to evaluate the classifer on test data\n",
    " \n",
    "y_pred = knn.predict(X_test)\n",
    "\n",
    "print(\"Accuracy test set: \", accuracy_score(y_test, y_pred))\n",
    "\n",
    "print(\"Precision test set: \", precision_score(y_test, y_pred, average = 'micro' )) \n",
    "print(\"Recall test set: \", recall_score(y_test, y_pred, average = 'micro' ))\n",
    "print(\"F-score test set: \", f1_score(y_test, y_pred, average = 'micro' ))\n",
    "\n",
    "print(classification_report(y_test, y_pred)) "
   ]
  },
  {
   "cell_type": "code",
   "execution_count": 71,
   "metadata": {},
   "outputs": [
    {
     "data": {
      "text/plain": [
       "[0.325, 0.375, 0.325]"
      ]
     },
     "execution_count": 71,
     "metadata": {},
     "output_type": "execute_result"
    }
   ],
   "source": [
    "# add accuracy value for k-NN\n",
    "\n",
    "test_scores_models.append(accuracy_score(y_test, y_pred))\n",
    "test_scores_models"
   ]
  },
  {
   "cell_type": "code",
   "execution_count": 72,
   "metadata": {},
   "outputs": [
    {
     "data": {
      "text/plain": [
       "['SVM(rbf)', 'SVM(Poly)', 'k-NN']"
      ]
     },
     "execution_count": 72,
     "metadata": {},
     "output_type": "execute_result"
    }
   ],
   "source": [
    "# add model to the list\n",
    "\n",
    "models.append('k-NN')\n",
    "models"
   ]
  },
  {
   "cell_type": "code",
   "execution_count": null,
   "metadata": {},
   "outputs": [],
   "source": []
  },
  {
   "cell_type": "code",
   "execution_count": null,
   "metadata": {},
   "outputs": [],
   "source": []
  },
  {
   "cell_type": "markdown",
   "metadata": {
    "id": "N4oIb5Apu8gH"
   },
   "source": [
    "# Evaluate KNN for accuracy, precision, recall, f-score, and classification report on train data.\n",
    "\n"
   ]
  },
  {
   "cell_type": "code",
   "execution_count": 73,
   "metadata": {
    "id": "XKcwxZMdvG3q"
   },
   "outputs": [
    {
     "name": "stdout",
     "output_type": "stream",
     "text": [
      "Accuracy train set:  0.5014084507042254\n",
      "Precision train set:  0.5014084507042254\n",
      "Recall train set:  0.5014084507042254\n",
      "F-score train set:  0.5014084507042254\n",
      "              precision    recall  f1-score   support\n",
      "\n",
      "   excellent       0.43      0.43      0.43        35\n",
      "        good       0.49      0.38      0.43        58\n",
      "        poor       0.55      0.70      0.62       115\n",
      "satisfactory       0.51      0.47      0.49        96\n",
      "   very good       0.38      0.29      0.33        51\n",
      "\n",
      "    accuracy                           0.50       355\n",
      "   macro avg       0.47      0.46      0.46       355\n",
      "weighted avg       0.49      0.50      0.49       355\n",
      "\n"
     ]
    }
   ],
   "source": [
    "#\n",
    "#\n",
    "# Your code to evaluate the classifer on train data\n",
    "\n",
    "\n",
    "train_data_predictions = knn.predict(X_train)\n",
    "\n",
    "print(\"Accuracy train set: \", accuracy_score(y_train, train_data_predictions))\n",
    "print(\"Precision train set: \", precision_score(y_train, train_data_predictions, average = 'micro' ))\n",
    "print(\"Recall train set: \", recall_score(y_train, train_data_predictions, average = 'micro' ))\n",
    "print(\"F-score train set: \", f1_score(y_train, train_data_predictions, average = 'micro' ))\n",
    "\n",
    "print(classification_report(y_train, train_data_predictions))\n",
    "#"
   ]
  },
  {
   "cell_type": "code",
   "execution_count": null,
   "metadata": {},
   "outputs": [],
   "source": []
  },
  {
   "cell_type": "code",
   "execution_count": null,
   "metadata": {},
   "outputs": [],
   "source": []
  },
  {
   "cell_type": "code",
   "execution_count": null,
   "metadata": {},
   "outputs": [],
   "source": []
  },
  {
   "cell_type": "code",
   "execution_count": null,
   "metadata": {},
   "outputs": [],
   "source": []
  },
  {
   "cell_type": "code",
   "execution_count": null,
   "metadata": {},
   "outputs": [],
   "source": []
  },
  {
   "cell_type": "code",
   "execution_count": null,
   "metadata": {},
   "outputs": [],
   "source": []
  },
  {
   "cell_type": "markdown",
   "metadata": {
    "id": "wFdlQg1yvLlf"
   },
   "source": [
    "# Display confusion matric between predicted and actual values."
   ]
  },
  {
   "cell_type": "code",
   "execution_count": 74,
   "metadata": {
    "id": "skhfQlmQKgTI"
   },
   "outputs": [
    {
     "data": {
      "image/png": "[encoded data removed]",
      "text/plain": [
       "<Figure size 640x480 with 2 Axes>"
      ]
     },
     "metadata": {},
     "output_type": "display_data"
    }
   ],
   "source": [
    "# Your code to display confusion matrix\n",
    "\n",
    "cm = confusion_matrix(y_test, y_pred) \n",
    "disp = ConfusionMatrixDisplay(confusion_matrix = cm, display_labels = classifier.classes_)\n",
    "disp.plot()\n",
    "plt.show()"
   ]
  },
  {
   "cell_type": "markdown",
   "metadata": {
    "id": "xwJ_JV4Fve7N"
   },
   "source": [
    "# Develop Logistic Regression-based classifier."
   ]
  },
  {
   "cell_type": "code",
   "execution_count": 75,
   "metadata": {
    "id": "bD3GFivwKsYv"
   },
   "outputs": [
    {
     "data": {
      "text/html": [
       "<style>#sk-container-id-4 {color: black;}#sk-container-id-4 pre{padding: 0;}#sk-container-id-4 div.sk-toggleable {background-color: white;}#sk-container-id-4 label.sk-toggleable__label {cursor: pointer;display: block;width: 100%;margin-bottom: 0;padding: 0.3em;box-sizing: border-box;text-align: center;}#sk-container-id-4 label.sk-toggleable__label-arrow:before {content: \"▸\";float: left;margin-right: 0.25em;color: #696969;}#sk-container-id-4 label.sk-toggleable__label-arrow:hover:before {color: black;}#sk-container-id-4 div.sk-estimator:hover label.sk-toggleable__label-arrow:before {color: black;}#sk-container-id-4 div.sk-toggleable__content {max-height: 0;max-width: 0;overflow: hidden;text-align: left;background-color: #f0f8ff;}#sk-container-id-4 div.sk-toggleable__content pre {margin: 0.2em;color: black;border-radius: 0.25em;background-color: #f0f8ff;}#sk-container-id-4 input.sk-toggleable__control:checked~div.sk-toggleable__content {max-height: 200px;max-width: 100%;overflow: auto;}#sk-container-id-4 input.sk-toggleable__control:checked~label.sk-toggleable__label-arrow:before {content: \"▾\";}#sk-container-id-4 div.sk-estimator input.sk-toggleable__control:checked~label.sk-toggleable__label {background-color: #d4ebff;}#sk-container-id-4 div.sk-label input.sk-toggleable__control:checked~label.sk-toggleable__label {background-color: #d4ebff;}#sk-container-id-4 input.sk-hidden--visually {border: 0;clip: rect(1px 1px 1px 1px);clip: rect(1px, 1px, 1px, 1px);height: 1px;margin: -1px;overflow: hidden;padding: 0;position: absolute;width: 1px;}#sk-container-id-4 div.sk-estimator {font-family: monospace;background-color: #f0f8ff;border: 1px dotted black;border-radius: 0.25em;box-sizing: border-box;margin-bottom: 0.5em;}#sk-container-id-4 div.sk-estimator:hover {background-color: #d4ebff;}#sk-container-id-4 div.sk-parallel-item::after {content: \"\";width: 100%;border-bottom: 1px solid gray;flex-grow: 1;}#sk-container-id-4 div.sk-label:hover label.sk-toggleable__label {background-color: #d4ebff;}#sk-container-id-4 div.sk-serial::before {content: \"\";position: absolute;border-left: 1px solid gray;box-sizing: border-box;top: 0;bottom: 0;left: 50%;z-index: 0;}#sk-container-id-4 div.sk-serial {display: flex;flex-direction: column;align-items: center;background-color: white;padding-right: 0.2em;padding-left: 0.2em;position: relative;}#sk-container-id-4 div.sk-item {position: relative;z-index: 1;}#sk-container-id-4 div.sk-parallel {display: flex;align-items: stretch;justify-content: center;background-color: white;position: relative;}#sk-container-id-4 div.sk-item::before, #sk-container-id-4 div.sk-parallel-item::before {content: \"\";position: absolute;border-left: 1px solid gray;box-sizing: border-box;top: 0;bottom: 0;left: 50%;z-index: -1;}#sk-container-id-4 div.sk-parallel-item {display: flex;flex-direction: column;z-index: 1;position: relative;background-color: white;}#sk-container-id-4 div.sk-parallel-item:first-child::after {align-self: flex-end;width: 50%;}#sk-container-id-4 div.sk-parallel-item:last-child::after {align-self: flex-start;width: 50%;}#sk-container-id-4 div.sk-parallel-item:only-child::after {width: 0;}#sk-container-id-4 div.sk-dashed-wrapped {border: 1px dashed gray;margin: 0 0.4em 0.5em 0.4em;box-sizing: border-box;padding-bottom: 0.4em;background-color: white;}#sk-container-id-4 div.sk-label label {font-family: monospace;font-weight: bold;display: inline-block;line-height: 1.2em;}#sk-container-id-4 div.sk-label-container {text-align: center;}#sk-container-id-4 div.sk-container {/* jupyter's `normalize.less` sets `[hidden] { display: none; }` but bootstrap.min.css set `[hidden] { display: none !important; }` so we also need the `!important` here to be able to override the default hidden behavior on the sphinx rendered scikit-learn.org. See: https://github.com/scikit-learn/scikit-learn/issues/21755 */display: inline-block !important;position: relative;}#sk-container-id-4 div.sk-text-repr-fallback {display: none;}</style><div id=\"sk-container-id-4\" class=\"sk-top-container\"><div class=\"sk-text-repr-fallback\"><pre>LogisticRegression(random_state=0)</pre><b>In a Jupyter environment, please rerun this cell to show the HTML representation or trust the notebook. <br />On GitHub, the HTML representation is unable to render, please try loading this page with nbviewer.org.</b></div><div class=\"sk-container\" hidden><div class=\"sk-item\"><div class=\"sk-estimator sk-toggleable\"><input class=\"sk-toggleable__control sk-hidden--visually\" id=\"sk-estimator-id-4\" type=\"checkbox\" checked><label for=\"sk-estimator-id-4\" class=\"sk-toggleable__label sk-toggleable__label-arrow\">LogisticRegression</label><div class=\"sk-toggleable__content\"><pre>LogisticRegression(random_state=0)</pre></div></div></div></div></div>"
      ],
      "text/plain": [
       "LogisticRegression(random_state=0)"
      ]
     },
     "execution_count": 75,
     "metadata": {},
     "output_type": "execute_result"
    }
   ],
   "source": [
    "# Your code to develop logistic regression-based classifier\n",
    "\n",
    "logisticRegression =  LogisticRegression(random_state = 0)\n",
    "logisticRegression.fit(X_train, y_train)"
   ]
  },
  {
   "cell_type": "markdown",
   "metadata": {
    "id": "ZLavFJb8v3sp"
   },
   "source": [
    "# Evaluate Logistic Regression for accuracy, precision, recall, f-score, and classification report on test data."
   ]
  },
  {
   "cell_type": "code",
   "execution_count": 76,
   "metadata": {
    "id": "VwnfCKiTLNw8"
   },
   "outputs": [
    {
     "name": "stdout",
     "output_type": "stream",
     "text": [
      "Accuracy test set:  0.375\n",
      "Precision test set:  0.375\n",
      "Recall test set:  0.375\n",
      "F-score test set:  0.375\n",
      "              precision    recall  f1-score   support\n",
      "\n",
      "   excellent       0.50      0.40      0.44         5\n",
      "        good       0.14      0.25      0.18         4\n",
      "        poor       0.60      0.40      0.48        15\n",
      "satisfactory       0.27      0.43      0.33         7\n",
      "   very good       0.38      0.33      0.35         9\n",
      "\n",
      "    accuracy                           0.38        40\n",
      "   macro avg       0.38      0.36      0.36        40\n",
      "weighted avg       0.43      0.38      0.39        40\n",
      "\n"
     ]
    }
   ],
   "source": [
    "# Your code to evaluate the logistic regression classifier on test data\n",
    "\n",
    "# Your code to evaluate the classifer on test data\n",
    " \n",
    "y_pred = logisticRegression.predict(X_test)\n",
    "\n",
    "print(\"Accuracy test set: \", accuracy_score(y_test, y_pred))\n",
    "\n",
    "print(\"Precision test set: \", precision_score(y_test, y_pred, average = 'micro' )) \n",
    "print(\"Recall test set: \", recall_score(y_test, y_pred, average = 'micro' ))\n",
    "print(\"F-score test set: \", f1_score(y_test, y_pred, average = 'micro' ))\n",
    "\n",
    "print(classification_report(y_test, y_pred)) "
   ]
  },
  {
   "cell_type": "code",
   "execution_count": 77,
   "metadata": {},
   "outputs": [
    {
     "data": {
      "text/plain": [
       "[0.325, 0.375, 0.325, 0.375]"
      ]
     },
     "execution_count": 77,
     "metadata": {},
     "output_type": "execute_result"
    }
   ],
   "source": [
    "# add accuracy value for logistic Regression\n",
    "\n",
    "test_scores_models.append(accuracy_score(y_test, y_pred))\n",
    "test_scores_models"
   ]
  },
  {
   "cell_type": "code",
   "execution_count": 78,
   "metadata": {},
   "outputs": [
    {
     "data": {
      "text/plain": [
       "['SVM(rbf)', 'SVM(Poly)', 'k-NN', 'logistic Regression']"
      ]
     },
     "execution_count": 78,
     "metadata": {},
     "output_type": "execute_result"
    }
   ],
   "source": [
    "# add model to the list\n",
    "\n",
    "models.append('logistic Regression')\n",
    "models"
   ]
  },
  {
   "cell_type": "markdown",
   "metadata": {
    "id": "0jSeFJ7WwO-t"
   },
   "source": [
    "# Evaluate Logistic regression for accuracy, precision, recall, f-score, and classification report on train data."
   ]
  },
  {
   "cell_type": "code",
   "execution_count": 79,
   "metadata": {
    "id": "EXHiy9pXwUXm"
   },
   "outputs": [
    {
     "name": "stdout",
     "output_type": "stream",
     "text": [
      "Accuracy train set:  0.5070422535211268\n",
      "Precision train set:  0.5070422535211268\n",
      "Recall train set:  0.5070422535211268\n",
      "F-score train set:  0.5070422535211268\n",
      "              precision    recall  f1-score   support\n",
      "\n",
      "   excellent       0.59      0.46      0.52        35\n",
      "        good       0.50      0.28      0.36        58\n",
      "        poor       0.56      0.65      0.60       115\n",
      "satisfactory       0.47      0.51      0.49        96\n",
      "   very good       0.42      0.47      0.44        51\n",
      "\n",
      "    accuracy                           0.51       355\n",
      "   macro avg       0.51      0.47      0.48       355\n",
      "weighted avg       0.51      0.51      0.50       355\n",
      "\n"
     ]
    }
   ],
   "source": [
    "# Your code to evaluate the logistic regression classifier on train data\n",
    "\n",
    "train_data_predictions = logisticRegression.predict(X_train)\n",
    "\n",
    "print(\"Accuracy train set: \", accuracy_score(y_train, train_data_predictions))\n",
    "print(\"Precision train set: \", precision_score(y_train, train_data_predictions, average = 'micro' ))\n",
    "print(\"Recall train set: \", recall_score(y_train, train_data_predictions, average = 'micro' ))\n",
    "print(\"F-score train set: \", f1_score(y_train, train_data_predictions, average = 'micro' ))\n",
    "\n",
    "print(classification_report(y_train, train_data_predictions))"
   ]
  },
  {
   "cell_type": "markdown",
   "metadata": {
    "id": "98Qok3EwwdxU"
   },
   "source": [
    "# Display confusion matrix between predicted and actual values for logistic regression."
   ]
  },
  {
   "cell_type": "code",
   "execution_count": 80,
   "metadata": {
    "id": "mUuWkUD3Lwcr"
   },
   "outputs": [
    {
     "data": {
      "image/png": "[encoded data removed]",
      "text/plain": [
       "<Figure size 640x480 with 2 Axes>"
      ]
     },
     "metadata": {},
     "output_type": "display_data"
    }
   ],
   "source": [
    "# Your code to display confusion matrix for logistic regression\n",
    "\n",
    "cm = confusion_matrix(y_test, y_pred) \n",
    "disp = ConfusionMatrixDisplay(confusion_matrix = cm, display_labels = classifier.classes_)\n",
    "disp.plot()\n",
    "plt.show()"
   ]
  },
  {
   "cell_type": "markdown",
   "metadata": {
    "id": "o5T9aYskEaN3"
   },
   "source": [
    "Next, compare the accuracy, precision, recall, and F-score for all the classifiers using plots. You need to have only one plot rather than 4 different plots for 4 different meteruces."
   ]
  },
  {
   "cell_type": "code",
   "execution_count": 83,
   "metadata": {
    "id": "eFzHJDGEEwR6"
   },
   "outputs": [
    {
     "data": {
      "image/png": "[encoded data removed]",
      "text/plain": [
       "<Figure size 640x480 with 1 Axes>"
      ]
     },
     "metadata": {},
     "output_type": "display_data"
    }
   ],
   "source": [
    "# Your code to plot and compare the performance of different algorithm\n",
    "\n",
    "# Your code to plot accuracy vs kernels\n",
    "\n",
    "plt.title('Accuracies of Different Сlassifer Models')    \n",
    "\n",
    "plt.bar(models, test_scores_models, color=['blue', 'green', 'orange', 'red'])\n",
    "\n",
    "\n",
    "plt.xlabel('Сlassifer Models')\n",
    "plt.ylabel('Testing Accuracy')\n",
    "\n",
    "plt.show()\n",
    "\n"
   ]
  },
  {
   "cell_type": "code",
   "execution_count": 98,
   "metadata": {},
   "outputs": [
    {
     "data": {
      "text/plain": [
       "[0.325, 0.375, 0.325, 0.375, 0.325, 0.375, 0.375, 0.325, 0.375, 0.375]"
      ]
     },
     "execution_count": 98,
     "metadata": {},
     "output_type": "execute_result"
    }
   ],
   "source": [
    "test_scores_models"
   ]
  },
  {
   "cell_type": "code",
   "execution_count": null,
   "metadata": {},
   "outputs": [],
   "source": []
  },
  {
   "cell_type": "code",
   "execution_count": 99,
   "metadata": {
    "scrolled": true
   },
   "outputs": [
    {
     "data": {
      "image/png": "[encoded data removed]",
      "text/plain": [
       "<Figure size 640x480 with 2 Axes>"
      ]
     },
     "metadata": {},
     "output_type": "display_data"
    },
    {
     "data": {
      "image/png": "[encoded data removed]",
      "text/plain": [
       "<Figure size 640x480 with 2 Axes>"
      ]
     },
     "metadata": {},
     "output_type": "display_data"
    },
    {
     "name": "stdout",
     "output_type": "stream",
     "text": [
      "Best-Performing Algorithm: Logistic Regression\n",
      "Accuracy of Logistic Regression: 0.375\n",
      "Least-Performing Algorithm: SVM(RBF)\n",
      "Accuracy of SVM(RBF): 0.325\n"
     ]
    }
   ],
   "source": [
    "from sklearn.metrics import confusion_matrix, ConfusionMatrixDisplay\n",
    "from sklearn.svm import SVC\n",
    "from sklearn.linear_model import LogisticRegression\n",
    "from sklearn.metrics import accuracy_score\n",
    "import matplotlib.pyplot as plt\n",
    "\n",
    "# Assuming X_train, X_test, y_train, y_test are defined and preprocessed\n",
    "\n",
    "# Logistic Regression\n",
    "logistic_regression = LogisticRegression(random_state=0)\n",
    "logistic_regression.fit(X_train, y_train)\n",
    "logistic_pred = logistic_regression.predict(X_test)\n",
    "\n",
    "# SVM(Poly)\n",
    "svm_poly = SVC(kernel='poly')\n",
    "svm_poly.fit(X_train, y_train)\n",
    "svm_poly_pred = svm_poly.predict(X_test)\n",
    "\n",
    "# SVM(RBF)\n",
    "svm_rbf = SVC(kernel='rbf')\n",
    "svm_rbf.fit(X_train, y_train)\n",
    "svm_rbf_pred = svm_rbf.predict(X_test)\n",
    "\n",
    "# KNN\n",
    "knn = KNeighborsClassifier(n_neighbors=5)\n",
    "knn.fit(X_train, y_train)\n",
    "knn_pred = knn.predict(X_test)\n",
    "\n",
    "accuracy_logistic = accuracy_score(y_test, logistic_pred)\n",
    "accuracy_svm_poly = accuracy_score(y_test, svm_poly_pred)\n",
    "accuracy_svm_rbf = accuracy_score(y_test, svm_rbf_pred)\n",
    "accuracy_knn = accuracy_score(y_test, knn_pred)\n",
    "\n",
    "best_algorithm = max([logistic_regression, svm_poly, svm_rbf, knn], key=lambda clf: accuracy_score(y_test, clf.predict(X_test)))\n",
    "least_algorithm = min([logistic_regression, svm_poly, svm_rbf, knn], key=lambda clf: accuracy_score(y_test, clf.predict(X_test)))\n",
    "\n",
    "best_algorithm_name = \"Logistic Regression\" if best_algorithm == logistic_regression else \"SVM(Poly)\" if best_algorithm == svm_poly else \"SVM(RBF)\" if best_algorithm == svm_rbf else \"KNN\"\n",
    "least_algorithm_name = \"Logistic Regression\" if least_algorithm == logistic_regression else \"SVM(Poly)\" if least_algorithm == svm_poly else \"SVM(RBF)\" if least_algorithm == svm_rbf else \"KNN\"\n",
    "\n",
    "def analyze_confusion_matrix(y_true, y_pred, classifier_name):\n",
    "    cm = confusion_matrix(y_true, y_pred)\n",
    "    disp = ConfusionMatrixDisplay(confusion_matrix=cm, display_labels=classifier.classes_)\n",
    "    disp.plot(cmap='Blues')  # Specify colormap for better visibility\n",
    "    plt.title(f\"Confusion Matrix - {classifier_name}\")\n",
    "    plt.show()\n",
    "\n",
    "# Display confusion matrix for the best-performing algorithm\n",
    "analyze_confusion_matrix(y_test, best_algorithm.predict(X_test), best_algorithm_name)\n",
    "\n",
    "# Display confusion matrix for the least-performing algorithm\n",
    "analyze_confusion_matrix(y_test, least_algorithm.predict(X_test), least_algorithm_name)\n",
    "\n",
    "print(f\"Best-Performing Algorithm: {best_algorithm_name}\")\n",
    "print(f\"Accuracy of {best_algorithm_name}: {accuracy_score(y_test, best_algorithm.predict(X_test))}\")\n",
    "\n",
    "print(f\"Least-Performing Algorithm: {least_algorithm_name}\")\n",
    "print(f\"Accuracy of {least_algorithm_name}: {accuracy_score(y_test, least_algorithm.predict(X_test))}\")\n"
   ]
  },
  {
   "cell_type": "markdown",
   "metadata": {
    "id": "HFbzkxnrwsZe"
   },
   "source": [
    "\n",
    "### **Important - Document in your Lab Logbook**\n",
    "\n",
    "# 1.   Include a plot comparing the performance of various algorithms.\n",
    "# 2.    Specify the best-performing algorithm and indicate which category exhibits the best and least performance based on the confusion metrics.\n",
    "\n"
   ]
  }
 ],
 "metadata": {
  "colab": {
   "provenance": []
  },
  "kernelspec": {
   "display_name": "Python 3 (ipykernel)",
   "language": "python",
   "name": "python3"
  },
  "language_info": {
   "codemirror_mode": {
    "name": "ipython",
    "version": 3
   },
   "file_extension": ".py",
   "mimetype": "text/x-python",
   "name": "python",
   "nbconvert_exporter": "python",
   "pygments_lexer": "ipython3",
   "version": "3.11.5"
  }
 },
 "nbformat": 4,
 "nbformat_minor": 1
}
